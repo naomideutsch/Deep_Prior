{
  "nbformat": 4,
  "nbformat_minor": 0,
  "metadata": {
    "colab": {
      "name": "Untitled8.ipynb",
      "provenance": [],
      "include_colab_link": true
    },
    "kernelspec": {
      "name": "python3",
      "display_name": "Python 3"
    },
    "accelerator": "GPU"
  },
  "cells": [
    {
      "cell_type": "markdown",
      "metadata": {
        "id": "view-in-github",
        "colab_type": "text"
      },
      "source": [
        "<a href=\"https://colab.research.google.com/github/naomideutsch/Deep_Prior/blob/master/deep_prior_0.ipynb\" target=\"_parent\"><img src=\"https://colab.research.google.com/assets/colab-badge.svg\" alt=\"Open In Colab\"/></a>"
      ]
    },
    {
      "cell_type": "code",
      "metadata": {
        "id": "Pq8adogsks2K",
        "colab_type": "code",
        "colab": {
          "base_uri": "https://localhost:8080/",
          "height": 904
        },
        "outputId": "d1ad7bb3-dd1e-43a4-d376-ce226c756e36"
      },
      "source": [
        "pip install tensorflow-gpu==1.15"
      ],
      "execution_count": 1,
      "outputs": [
        {
          "output_type": "stream",
          "text": [
            "Collecting tensorflow-gpu==1.15\n",
            "\u001b[?25l  Downloading https://files.pythonhosted.org/packages/a5/ad/933140e74973fb917a194ab814785e7c23680ca5dee6d663a509fe9579b6/tensorflow_gpu-1.15.0-cp36-cp36m-manylinux2010_x86_64.whl (411.5MB)\n",
            "\u001b[K     |████████████████████████████████| 411.5MB 41kB/s \n",
            "\u001b[?25hRequirement already satisfied: google-pasta>=0.1.6 in /usr/local/lib/python3.6/dist-packages (from tensorflow-gpu==1.15) (0.2.0)\n",
            "\u001b[33mWARNING: Retrying (Retry(total=4, connect=None, read=None, redirect=None, status=None)) after connection broken by 'ProtocolError('Connection aborted.', ConnectionResetError(104, 'Connection reset by peer'))': /simple/tensorflow-estimator/\u001b[0m\n",
            "Collecting tensorflow-estimator==1.15.1\n",
            "\u001b[?25l  Downloading https://files.pythonhosted.org/packages/de/62/2ee9cd74c9fa2fa450877847ba560b260f5d0fb70ee0595203082dafcc9d/tensorflow_estimator-1.15.1-py2.py3-none-any.whl (503kB)\n",
            "\u001b[K     |████████████████████████████████| 512kB 33.2MB/s \n",
            "\u001b[?25hRequirement already satisfied: wheel>=0.26 in /usr/local/lib/python3.6/dist-packages (from tensorflow-gpu==1.15) (0.34.2)\n",
            "Requirement already satisfied: astor>=0.6.0 in /usr/local/lib/python3.6/dist-packages (from tensorflow-gpu==1.15) (0.8.1)\n",
            "Requirement already satisfied: protobuf>=3.6.1 in /usr/local/lib/python3.6/dist-packages (from tensorflow-gpu==1.15) (3.10.0)\n",
            "Requirement already satisfied: grpcio>=1.8.6 in /usr/local/lib/python3.6/dist-packages (from tensorflow-gpu==1.15) (1.30.0)\n",
            "Requirement already satisfied: keras-applications>=1.0.8 in /usr/local/lib/python3.6/dist-packages (from tensorflow-gpu==1.15) (1.0.8)\n",
            "Requirement already satisfied: opt-einsum>=2.3.2 in /usr/local/lib/python3.6/dist-packages (from tensorflow-gpu==1.15) (3.2.1)\n",
            "Requirement already satisfied: termcolor>=1.1.0 in /usr/local/lib/python3.6/dist-packages (from tensorflow-gpu==1.15) (1.1.0)\n",
            "Requirement already satisfied: absl-py>=0.7.0 in /usr/local/lib/python3.6/dist-packages (from tensorflow-gpu==1.15) (0.9.0)\n",
            "Requirement already satisfied: wrapt>=1.11.1 in /usr/local/lib/python3.6/dist-packages (from tensorflow-gpu==1.15) (1.12.1)\n",
            "Requirement already satisfied: numpy<2.0,>=1.16.0 in /usr/local/lib/python3.6/dist-packages (from tensorflow-gpu==1.15) (1.18.5)\n",
            "Collecting gast==0.2.2\n",
            "  Downloading https://files.pythonhosted.org/packages/4e/35/11749bf99b2d4e3cceb4d55ca22590b0d7c2c62b9de38ac4a4a7f4687421/gast-0.2.2.tar.gz\n",
            "Collecting tensorboard<1.16.0,>=1.15.0\n",
            "\u001b[?25l  Downloading https://files.pythonhosted.org/packages/1e/e9/d3d747a97f7188f48aa5eda486907f3b345cd409f0a0850468ba867db246/tensorboard-1.15.0-py3-none-any.whl (3.8MB)\n",
            "\u001b[K     |████████████████████████████████| 3.8MB 35.4MB/s \n",
            "\u001b[?25hRequirement already satisfied: six>=1.10.0 in /usr/local/lib/python3.6/dist-packages (from tensorflow-gpu==1.15) (1.12.0)\n",
            "Requirement already satisfied: keras-preprocessing>=1.0.5 in /usr/local/lib/python3.6/dist-packages (from tensorflow-gpu==1.15) (1.1.2)\n",
            "Requirement already satisfied: setuptools in /usr/local/lib/python3.6/dist-packages (from protobuf>=3.6.1->tensorflow-gpu==1.15) (47.3.1)\n",
            "Requirement already satisfied: h5py in /usr/local/lib/python3.6/dist-packages (from keras-applications>=1.0.8->tensorflow-gpu==1.15) (2.10.0)\n",
            "Requirement already satisfied: markdown>=2.6.8 in /usr/local/lib/python3.6/dist-packages (from tensorboard<1.16.0,>=1.15.0->tensorflow-gpu==1.15) (3.2.2)\n",
            "Requirement already satisfied: werkzeug>=0.11.15 in /usr/local/lib/python3.6/dist-packages (from tensorboard<1.16.0,>=1.15.0->tensorflow-gpu==1.15) (1.0.1)\n",
            "Requirement already satisfied: importlib-metadata; python_version < \"3.8\" in /usr/local/lib/python3.6/dist-packages (from markdown>=2.6.8->tensorboard<1.16.0,>=1.15.0->tensorflow-gpu==1.15) (1.6.1)\n",
            "Requirement already satisfied: zipp>=0.5 in /usr/local/lib/python3.6/dist-packages (from importlib-metadata; python_version < \"3.8\"->markdown>=2.6.8->tensorboard<1.16.0,>=1.15.0->tensorflow-gpu==1.15) (3.1.0)\n",
            "Building wheels for collected packages: gast\n",
            "  Building wheel for gast (setup.py) ... \u001b[?25l\u001b[?25hdone\n",
            "  Created wheel for gast: filename=gast-0.2.2-cp36-none-any.whl size=7540 sha256=9c3b53b7b2661dc93ca15bb8dd1930503200b68b8166510fed1ade26afd5fcf1\n",
            "  Stored in directory: /root/.cache/pip/wheels/5c/2e/7e/a1d4d4fcebe6c381f378ce7743a3ced3699feb89bcfbdadadd\n",
            "Successfully built gast\n",
            "\u001b[31mERROR: tensorflow 2.2.0 has requirement gast==0.3.3, but you'll have gast 0.2.2 which is incompatible.\u001b[0m\n",
            "\u001b[31mERROR: tensorflow 2.2.0 has requirement tensorboard<2.3.0,>=2.2.0, but you'll have tensorboard 1.15.0 which is incompatible.\u001b[0m\n",
            "\u001b[31mERROR: tensorflow 2.2.0 has requirement tensorflow-estimator<2.3.0,>=2.2.0, but you'll have tensorflow-estimator 1.15.1 which is incompatible.\u001b[0m\n",
            "\u001b[31mERROR: tensorflow-probability 0.10.0 has requirement gast>=0.3.2, but you'll have gast 0.2.2 which is incompatible.\u001b[0m\n",
            "Installing collected packages: tensorflow-estimator, gast, tensorboard, tensorflow-gpu\n",
            "  Found existing installation: tensorflow-estimator 2.2.0\n",
            "    Uninstalling tensorflow-estimator-2.2.0:\n",
            "      Successfully uninstalled tensorflow-estimator-2.2.0\n",
            "  Found existing installation: gast 0.3.3\n",
            "    Uninstalling gast-0.3.3:\n",
            "      Successfully uninstalled gast-0.3.3\n",
            "  Found existing installation: tensorboard 2.2.2\n",
            "    Uninstalling tensorboard-2.2.2:\n",
            "      Successfully uninstalled tensorboard-2.2.2\n",
            "Successfully installed gast-0.2.2 tensorboard-1.15.0 tensorflow-estimator-1.15.1 tensorflow-gpu-1.15.0\n"
          ],
          "name": "stdout"
        }
      ]
    },
    {
      "cell_type": "code",
      "metadata": {
        "id": "Q-n4rszwiNvZ",
        "colab_type": "code",
        "colab": {
          "base_uri": "https://localhost:8080/",
          "height": 136
        },
        "outputId": "c3744770-02ea-4e83-e693-b6b6ebb714bf"
      },
      "source": [
        "!git clone https://github.com/naomideutsch/Deep_Prior"
      ],
      "execution_count": 2,
      "outputs": [
        {
          "output_type": "stream",
          "text": [
            "Cloning into 'Deep_Prior'...\n",
            "remote: Enumerating objects: 53, done.\u001b[K\n",
            "remote: Counting objects: 100% (53/53), done.\u001b[K\n",
            "remote: Compressing objects: 100% (45/45), done.\u001b[K\n",
            "remote: Total 609 (delta 23), reused 25 (delta 7), pack-reused 556\u001b[K\n",
            "Receiving objects: 100% (609/609), 30.39 MiB | 9.62 MiB/s, done.\n",
            "Resolving deltas: 100% (188/188), done.\n"
          ],
          "name": "stdout"
        }
      ]
    },
    {
      "cell_type": "code",
      "metadata": {
        "id": "VdllOJFsmnyr",
        "colab_type": "code",
        "colab": {
          "base_uri": "https://localhost:8080/",
          "height": 34
        },
        "outputId": "f0a60c2b-3138-4961-8576-4b791f60411d"
      },
      "source": [
        "cd Deep_Prior"
      ],
      "execution_count": 3,
      "outputs": [
        {
          "output_type": "stream",
          "text": [
            "/content/Deep_Prior\n"
          ],
          "name": "stdout"
        }
      ]
    },
    {
      "cell_type": "markdown",
      "metadata": {
        "id": "UhIDzbC4-ZD9",
        "colab_type": "text"
      },
      "source": [
        "Super-Resolution"
      ]
    },
    {
      "cell_type": "code",
      "metadata": {
        "id": "fuQF2WVhnILR",
        "colab_type": "code",
        "colab": {}
      },
      "source": [
        "\n",
        "!python super_resolution.py --lr-imgs-dir=\"dataset/lr_stylegan\" --hr-imgs-dir=\"dataset/hr_stylegan\" --latents-dir=\"dataset/latents_dir\" --hr-img-size 256 256"
      ],
      "execution_count": null,
      "outputs": []
    },
    {
      "cell_type": "code",
      "metadata": {
        "id": "3_YrhB3YMJ8r",
        "colab_type": "code",
        "colab": {}
      },
      "source": [
        "from PIL import Image\n",
        "import os\n",
        "import numpy as np\n",
        "import tensorflow as tf\n",
        "from preprocessing import blur_utils\n",
        "DIR = \"dataset/hr_stylegan\"\n",
        "ORIG = \"dataset/lr_stylegan\"\n",
        "\n",
        "images_names = os.listdir(DIR)\n",
        "for name in images_names:\n",
        "    img = Image.open(os.path.join(DIR, name))\n",
        "    display(img)\n",
        "    orig = Image.open(os.path.join(ORIG, name))\n",
        "    display(orig)"
      ],
      "execution_count": null,
      "outputs": []
    },
    {
      "cell_type": "code",
      "metadata": {
        "id": "laD-vSJJj78D",
        "colab_type": "code",
        "colab": {
          "base_uri": "https://localhost:8080/",
          "height": 139
        },
        "outputId": "76dcd70f-cc8c-43d9-c924-c3b155aa523f"
      },
      "source": [
        "!git pull\n",
        "from google.colab import drive\n",
        "drive.mount('/content/drive')"
      ],
      "execution_count": 4,
      "outputs": [
        {
          "output_type": "stream",
          "text": [
            "Already up to date.\n",
            "Go to this URL in a browser: https://accounts.google.com/o/oauth2/auth?client_id=947318989803-6bn6qk8qdgf4n4g3pfee6491hc0brc4i.apps.googleusercontent.com&redirect_uri=urn%3aietf%3awg%3aoauth%3a2.0%3aoob&response_type=code&scope=email%20https%3a%2f%2fwww.googleapis.com%2fauth%2fdocs.test%20https%3a%2f%2fwww.googleapis.com%2fauth%2fdrive%20https%3a%2f%2fwww.googleapis.com%2fauth%2fdrive.photos.readonly%20https%3a%2f%2fwww.googleapis.com%2fauth%2fpeopleapi.readonly\n",
            "\n",
            "Enter your authorization code:\n",
            "··········\n",
            "Mounted at /content/drive\n"
          ],
          "name": "stdout"
        }
      ]
    },
    {
      "cell_type": "markdown",
      "metadata": {
        "id": "cbGXO_en-ovR",
        "colab_type": "text"
      },
      "source": [
        "## [**StyleGan examples**]"
      ]
    },
    {
      "cell_type": "markdown",
      "metadata": {
        "id": "vefMAK7xMQct",
        "colab_type": "text"
      },
      "source": [
        "Preprocessing blurred images"
      ]
    },
    {
      "cell_type": "markdown",
      "metadata": {
        "id": "l8mrOn_wPUnf",
        "colab_type": "text"
      },
      "source": [
        "### *Gussian Kernal*"
      ]
    },
    {
      "cell_type": "markdown",
      "metadata": {
        "id": "UicVpfh-QNf4",
        "colab_type": "text"
      },
      "source": [
        "####**Blurring**\n"
      ]
    },
    {
      "cell_type": "markdown",
      "metadata": {
        "id": "CX1RbiWCSx_2",
        "colab_type": "text"
      },
      "source": [
        "Full resolution"
      ]
    },
    {
      "cell_type": "code",
      "metadata": {
        "id": "dyKSL59-rKVm",
        "colab_type": "code",
        "colab": {}
      },
      "source": [
        "!python preprocessing/blur_preprocessing.py --img-dir=\"dataset/full_resolution_stylegan\" --output-dir=\"/content/drive/My Drive/Colab Notebooks/ex3/gauss/25_10/full_res/blurred\" --kernel-size=25 --sigma=10 --kernel-type=\"gauss\""
      ],
      "execution_count": null,
      "outputs": []
    },
    {
      "cell_type": "markdown",
      "metadata": {
        "id": "jajuqO8IS0HF",
        "colab_type": "text"
      },
      "source": [
        "Low resulotion"
      ]
    },
    {
      "cell_type": "code",
      "metadata": {
        "id": "7A9IyCNhS7KB",
        "colab_type": "code",
        "colab": {}
      },
      "source": [
        "!python preprocessing/blur_preprocessing.py --img-dir=\"dataset/lr_stylegan\" --output-dir=\"/content/drive/My Drive/Colab Notebooks/ex3/gauss/3_2/low_res/blurred\" --kernel-size=3 --sigma=2 --kernel-type=\"gauss\""
      ],
      "execution_count": null,
      "outputs": []
    },
    {
      "cell_type": "markdown",
      "metadata": {
        "id": "qSk0dh0bab-Z",
        "colab_type": "text"
      },
      "source": [
        "####**Deblurring**"
      ]
    },
    {
      "cell_type": "markdown",
      "metadata": {
        "id": "7amA01xKRCoL",
        "colab_type": "text"
      },
      "source": [
        "2500 iterations + regularization"
      ]
    },
    {
      "cell_type": "code",
      "metadata": {
        "id": "jvvcjNvAQan3",
        "colab_type": "code",
        "colab": {
          "base_uri": "https://localhost:8080/",
          "height": 1000
        },
        "outputId": "910ad570-70a9-4bea-df5c-cb591b340306"
      },
      "source": [
        "!python deblurring.py --input-size 1024 1024 --ckpt=\"/content/drive/My Drive/Colab Notebooks/styleGAN_weights/karras2019stylegan-ffhq-1024x1024.pkl\" --blurred-imgs-dir=\"/content/drive/My Drive/Colab Notebooks/ex3/gauss/25_10/full_res/blurred\" --deblurred-imgs-dir=\"/content/drive/My Drive/Colab Notebooks/ex3/gauss/9_8/full_res/deblurred_reg_2500\" --latents-dir=\"/content/drive/My Drive/Colab Notebooks/ex3/gauss/9_8/full_res/latents_dir_reg_2500\" --kernel-size=25 --sigma=10 --beta=0.1 --reg=\"grad\" --kernel-type=\"gauss\" --total-iterations=2500"
      ],
      "execution_count": 6,
      "outputs": [
        {
          "output_type": "stream",
          "text": [
            "WARNING:tensorflow:From stylegan/dnnlib/tflib/tfutil.py:34: The name tf.Dimension is deprecated. Please use tf.compat.v1.Dimension instead.\n",
            "\n",
            "WARNING:tensorflow:From stylegan/dnnlib/tflib/tfutil.py:74: The name tf.variable_scope is deprecated. Please use tf.compat.v1.variable_scope instead.\n",
            "\n",
            "WARNING:tensorflow:From stylegan/dnnlib/tflib/tfutil.py:128: The name tf.Session is deprecated. Please use tf.compat.v1.Session instead.\n",
            "\n",
            "Using TensorFlow backend.\n",
            "WARNING:tensorflow:From stylegan/dnnlib/tflib/tfutil.py:97: The name tf.get_default_session is deprecated. Please use tf.compat.v1.get_default_session instead.\n",
            "\n",
            "WARNING:tensorflow:From stylegan/dnnlib/tflib/tfutil.py:109: The name tf.set_random_seed is deprecated. Please use tf.compat.v1.set_random_seed instead.\n",
            "\n",
            "WARNING:tensorflow:From stylegan/dnnlib/tflib/tfutil.py:132: The name tf.ConfigProto is deprecated. Please use tf.compat.v1.ConfigProto instead.\n",
            "\n",
            "WARNING:tensorflow:From stylegan/dnnlib/tflib/network.py:142: The name tf.get_default_graph is deprecated. Please use tf.compat.v1.get_default_graph instead.\n",
            "\n",
            "WARNING:tensorflow:From stylegan/dnnlib/tflib/network.py:150: The name tf.AUTO_REUSE is deprecated. Please use tf.compat.v1.AUTO_REUSE instead.\n",
            "\n",
            "WARNING:tensorflow:From stylegan/dnnlib/tflib/tfutil.py:76: The name tf.VariableScope is deprecated. Please use tf.compat.v1.VariableScope instead.\n",
            "\n",
            "WARNING:tensorflow:From stylegan/dnnlib/tflib/network.py:151: The name tf.get_variable_scope is deprecated. Please use tf.compat.v1.get_variable_scope instead.\n",
            "\n",
            "WARNING:tensorflow:From stylegan/dnnlib/tflib/network.py:154: The name tf.placeholder is deprecated. Please use tf.compat.v1.placeholder instead.\n",
            "\n",
            "WARNING:tensorflow:From stylegan/dnnlib/tflib/network.py:182: The name tf.global_variables is deprecated. Please use tf.compat.v1.global_variables instead.\n",
            "\n",
            "WARNING:tensorflow:From stylegan/dnnlib/tflib/tfutil.py:200: The name tf.assign is deprecated. Please use tf.compat.v1.assign instead.\n",
            "\n",
            "WARNING:tensorflow:From <string>:364: where (from tensorflow.python.ops.array_ops) is deprecated and will be removed in a future version.\n",
            "Instructions for updating:\n",
            "Use tf.where in 2.0, which has the same broadcast rule as np.where\n",
            "WARNING:tensorflow:From deblurring.py:63: The name tf.image.resize_images is deprecated. Please use tf.image.resize instead.\n",
            "\n",
            "WARNING:tensorflow:From /usr/local/lib/python3.6/dist-packages/tensorflow_core/python/ops/resource_variable_ops.py:1630: calling BaseResourceVariable.__init__ (from tensorflow.python.ops.resource_variable_ops) with constraint is deprecated and will be removed in a future version.\n",
            "Instructions for updating:\n",
            "If using Keras pass *_constraint arguments to layers.\n",
            "WARNING:tensorflow:From /usr/local/lib/python3.6/dist-packages/keras/backend/tensorflow_backend.py:4070: The name tf.nn.max_pool is deprecated. Please use tf.nn.max_pool2d instead.\n",
            "\n",
            "Downloading data from https://github.com/fchollet/deep-learning-models/releases/download/v0.1/vgg16_weights_tf_dim_ordering_tf_kernels_notop.h5\n",
            "58892288/58889256 [==============================] - 5s 0us/step\n",
            "WARNING:tensorflow:From deblurring.py:83: The name tf.train.AdamOptimizer is deprecated. Please use tf.compat.v1.train.AdamOptimizer instead.\n",
            "\n",
            "WARNING:tensorflow:From deblurring.py:92: The name tf.variables_initializer is deprecated. Please use tf.compat.v1.variables_initializer instead.\n",
            "\n",
            "00000.png:   3% 83/2500 [03:22<1:30:51,  2.26s/it, loss=52.85]Traceback (most recent call last):\n",
            "  File \"deblurring.py\", line 159, in <module>\n",
            "    optimize_latent_codes(args, method)\n",
            "  File \"deblurring.py\", line 104, in optimize_latent_codes\n",
            "    method_img: img[np.newaxis, ...]\n",
            "  File \"/usr/local/lib/python3.6/dist-packages/tensorflow_core/python/client/session.py\", line 956, in run\n",
            "    run_metadata_ptr)\n",
            "  File \"/usr/local/lib/python3.6/dist-packages/tensorflow_core/python/client/session.py\", line 1180, in _run\n",
            "    feed_dict_tensor, options, run_metadata)\n",
            "  File \"/usr/local/lib/python3.6/dist-packages/tensorflow_core/python/client/session.py\", line 1359, in _do_run\n",
            "    run_metadata)\n",
            "  File \"/usr/local/lib/python3.6/dist-packages/tensorflow_core/python/client/session.py\", line 1365, in _do_call\n",
            "    return fn(*args)\n",
            "  File \"/usr/local/lib/python3.6/dist-packages/tensorflow_core/python/client/session.py\", line 1350, in _run_fn\n",
            "    target_list, run_metadata)\n",
            "  File \"/usr/local/lib/python3.6/dist-packages/tensorflow_core/python/client/session.py\", line 1443, in _call_tf_sessionrun\n",
            "    run_metadata)\n",
            "KeyboardInterrupt\n",
            "00000.png:   3% 83/2500 [03:24<1:39:15,  2.46s/it, loss=52.85]\n"
          ],
          "name": "stdout"
        }
      ]
    },
    {
      "cell_type": "code",
      "metadata": {
        "id": "Qx1kkSHLVXv5",
        "colab_type": "code",
        "colab": {}
      },
      "source": [
        "!python deblurring.py --input-size 128 128 --ckpt=\"/content/drive/My Drive/Colab Notebooks/styleGAN_weights/karras2019stylegan-ffhq-1024x1024.pkl\" --blurred-imgs-dir=\"/content/drive/My Drive/Colab Notebooks/ex3/gauss/3_2/low_res/blurred\" --deblurred-imgs-dir=\"/content/drive/My Drive/Colab Notebooks/ex3/gauss/3_2/low_res/deblurred_reg_2500\" --latents-dir=\"/content/drive/My Drive/Colab Notebooks/ex3/gauss/3_2/low_res/latents_dir_reg_2500\" --kernel-size=3 --sigma=2 --beta=0.1 --reg=\"grad\" --kernel-type=\"gauss\" --total-iterations=2500"
      ],
      "execution_count": null,
      "outputs": []
    },
    {
      "cell_type": "markdown",
      "metadata": {
        "id": "cPmBu9oKRjBE",
        "colab_type": "text"
      },
      "source": [
        "1000 iterations + no regularization"
      ]
    },
    {
      "cell_type": "code",
      "metadata": {
        "id": "bEFZVIoZRM4U",
        "colab_type": "code",
        "colab": {}
      },
      "source": [
        "!python deblurring.py --input-size 1024 1024 --ckpt=\"/content/drive/My Drive/Colab Notebooks/styleGAN_weights/karras2019stylegan-ffhq-1024x1024.pkl\" --blurred-imgs-dir=\"/content/drive/My Drive/Colab Notebooks/ex3/gauss/25_10/full_res/blurred\" --deblurred-imgs-dir=\"/content/drive/My Drive/Colab Notebooks/ex3/gauss/9_8/full_res/deblurred_no_reg_1000\" --latents-dir=\"/content/drive/My Drive/Colab Notebooks/ex3/gauss/9_8/full_res/latents_dir_no_reg_1000\" --kernel-size=25 --sigma=10 --beta=0.0 --reg=\"grad\" --kernel-type=\"gauss\" --total-iterations=1000"
      ],
      "execution_count": null,
      "outputs": []
    },
    {
      "cell_type": "code",
      "metadata": {
        "id": "2aymAWtZTokQ",
        "colab_type": "code",
        "colab": {}
      },
      "source": [
        "!python deblurring.py --input-size 128 128 --ckpt=\"/content/drive/My Drive/Colab Notebooks/styleGAN_weights/karras2019stylegan-ffhq-1024x1024.pkl\" --blurred-imgs-dir=\"/content/drive/My Drive/Colab Notebooks/ex3/gauss/3_2/low_res/blurred\" --deblurred-imgs-dir=\"/content/drive/My Drive/Colab Notebooks/ex3/gauss/3_2/low_res/deblurred_no_reg_1000\" --latents-dir=\"/content/drive/My Drive/Colab Notebooks/ex3/gauss/3_2/low_res/latents_dir_no_reg_1000\" --kernel-size=3 --sigma=2 --beta=0.0 --reg=\"grad\" --kernel-type=\"gauss\" --total-iterations=1000"
      ],
      "execution_count": null,
      "outputs": []
    },
    {
      "cell_type": "markdown",
      "metadata": {
        "id": "Yr_aZJp-TlcQ",
        "colab_type": "text"
      },
      "source": [
        "1000 iterations + regularization"
      ]
    },
    {
      "cell_type": "code",
      "metadata": {
        "id": "ggb6h8BsRqGn",
        "colab_type": "code",
        "colab": {}
      },
      "source": [
        "!python deblurring.py --input-size 1024 1024 --ckpt=\"/content/drive/My Drive/Colab Notebooks/styleGAN_weights/karras2019stylegan-ffhq-1024x1024.pkl\" --blurred-imgs-dir=\"/content/drive/My Drive/Colab Notebooks/ex3/gauss/25_10/full_res/blurred\" --deblurred-imgs-dir=\"/content/drive/My Drive/Colab Notebooks/ex3/gauss/9_8/full_res/deblurred_reg_1000\" --latents-dir=\"/content/drive/My Drive/Colab Notebooks/ex3/gauss/9_8/full_res/latents_dir_reg_1000\" --kernel-size=25 --sigma=10 --beta=0.1 --reg=\"grad\" --kernel-type=\"gauss\" --total-iterations=1000"
      ],
      "execution_count": null,
      "outputs": []
    },
    {
      "cell_type": "code",
      "metadata": {
        "id": "qqpsLm91UKNV",
        "colab_type": "code",
        "colab": {}
      },
      "source": [
        "!python deblurring.py --input-size 128 128 --ckpt=\"/content/drive/My Drive/Colab Notebooks/styleGAN_weights/karras2019stylegan-ffhq-1024x1024.pkl\" --blurred-imgs-dir=\"/content/drive/My Drive/Colab Notebooks/ex3/gauss/3_2/low_res/blurred\" --deblurred-imgs-dir=\"/content/drive/My Drive/Colab Notebooks/ex3/gauss/3_2/low_res/deblurred_reg_1000\" --latents-dir=\"/content/drive/My Drive/Colab Notebooks/ex3/gauss/3_2/low_res/latents_dir_reg_1000\" --kernel-size=3 --sigma=2 --beta=0.1 --reg=\"grad\" --kernel-type=\"gauss\" --total-iterations=1000"
      ],
      "execution_count": null,
      "outputs": []
    },
    {
      "cell_type": "markdown",
      "metadata": {
        "id": "-QiXY04saUkO",
        "colab_type": "text"
      },
      "source": [
        "### *X Motion Kernal*"
      ]
    },
    {
      "cell_type": "markdown",
      "metadata": {
        "id": "uGaH5EoIa2vX",
        "colab_type": "text"
      },
      "source": [
        "####**Blurring**\n"
      ]
    },
    {
      "cell_type": "markdown",
      "metadata": {
        "colab_type": "text",
        "id": "6tM5-kFta9vA"
      },
      "source": [
        "Full resolution"
      ]
    },
    {
      "cell_type": "code",
      "metadata": {
        "colab_type": "code",
        "id": "ZLIgQHLHbFN4",
        "colab": {
          "base_uri": "https://localhost:8080/",
          "height": 1000
        },
        "outputId": "e61cbe60-c98e-4182-ee3f-7cf8803a0f14"
      },
      "source": [
        "!python preprocessing/blur_preprocessing.py --img-dir=\"dataset/full_resolution_stylegan\" --output-dir=\"/content/drive/My Drive/Colab Notebooks/ex3/motion/25/full_res/blurred\" --kernel-size=25 --kernel-type=\"x_motion\""
      ],
      "execution_count": null,
      "outputs": [
        {
          "output_type": "stream",
          "text": [
            "WARNING:tensorflow:From preprocessing/blur_preprocessing.py:16: The name tf.Session is deprecated. Please use tf.compat.v1.Session instead.\n",
            "\n",
            "2020-07-01 09:18:52.565974: I tensorflow/stream_executor/platform/default/dso_loader.cc:44] Successfully opened dynamic library libcuda.so.1\n",
            "2020-07-01 09:18:52.603384: I tensorflow/stream_executor/cuda/cuda_gpu_executor.cc:983] successful NUMA node read from SysFS had negative value (-1), but there must be at least one NUMA node, so returning NUMA node zero\n",
            "2020-07-01 09:18:52.603964: I tensorflow/core/common_runtime/gpu/gpu_device.cc:1618] Found device 0 with properties: \n",
            "name: Tesla T4 major: 7 minor: 5 memoryClockRate(GHz): 1.59\n",
            "pciBusID: 0000:00:04.0\n",
            "2020-07-01 09:18:52.604245: I tensorflow/stream_executor/platform/default/dso_loader.cc:44] Successfully opened dynamic library libcudart.so.10.0\n",
            "2020-07-01 09:18:52.605304: I tensorflow/stream_executor/platform/default/dso_loader.cc:44] Successfully opened dynamic library libcublas.so.10.0\n",
            "2020-07-01 09:18:52.606374: I tensorflow/stream_executor/platform/default/dso_loader.cc:44] Successfully opened dynamic library libcufft.so.10.0\n",
            "2020-07-01 09:18:52.606732: I tensorflow/stream_executor/platform/default/dso_loader.cc:44] Successfully opened dynamic library libcurand.so.10.0\n",
            "2020-07-01 09:18:52.608076: I tensorflow/stream_executor/platform/default/dso_loader.cc:44] Successfully opened dynamic library libcusolver.so.10.0\n",
            "2020-07-01 09:18:52.609008: I tensorflow/stream_executor/platform/default/dso_loader.cc:44] Successfully opened dynamic library libcusparse.so.10.0\n",
            "2020-07-01 09:18:52.611981: I tensorflow/stream_executor/platform/default/dso_loader.cc:44] Successfully opened dynamic library libcudnn.so.7\n",
            "2020-07-01 09:18:52.612086: I tensorflow/stream_executor/cuda/cuda_gpu_executor.cc:983] successful NUMA node read from SysFS had negative value (-1), but there must be at least one NUMA node, so returning NUMA node zero\n",
            "2020-07-01 09:18:52.612665: I tensorflow/stream_executor/cuda/cuda_gpu_executor.cc:983] successful NUMA node read from SysFS had negative value (-1), but there must be at least one NUMA node, so returning NUMA node zero\n",
            "2020-07-01 09:18:52.613144: I tensorflow/core/common_runtime/gpu/gpu_device.cc:1746] Adding visible gpu devices: 0\n",
            "2020-07-01 09:18:52.613424: I tensorflow/core/platform/cpu_feature_guard.cc:142] Your CPU supports instructions that this TensorFlow binary was not compiled to use: AVX2 AVX512F FMA\n",
            "2020-07-01 09:18:52.617486: I tensorflow/core/platform/profile_utils/cpu_utils.cc:94] CPU Frequency: 2000129999 Hz\n",
            "2020-07-01 09:18:52.618018: I tensorflow/compiler/xla/service/service.cc:168] XLA service 0x14c4bc0 initialized for platform Host (this does not guarantee that XLA will be used). Devices:\n",
            "2020-07-01 09:18:52.618048: I tensorflow/compiler/xla/service/service.cc:176]   StreamExecutor device (0): Host, Default Version\n",
            "2020-07-01 09:18:52.712735: I tensorflow/stream_executor/cuda/cuda_gpu_executor.cc:983] successful NUMA node read from SysFS had negative value (-1), but there must be at least one NUMA node, so returning NUMA node zero\n",
            "2020-07-01 09:18:52.713381: I tensorflow/compiler/xla/service/service.cc:168] XLA service 0x14c4d80 initialized for platform CUDA (this does not guarantee that XLA will be used). Devices:\n",
            "2020-07-01 09:18:52.713419: I tensorflow/compiler/xla/service/service.cc:176]   StreamExecutor device (0): Tesla T4, Compute Capability 7.5\n",
            "2020-07-01 09:18:52.713622: I tensorflow/stream_executor/cuda/cuda_gpu_executor.cc:983] successful NUMA node read from SysFS had negative value (-1), but there must be at least one NUMA node, so returning NUMA node zero\n",
            "2020-07-01 09:18:52.714124: I tensorflow/core/common_runtime/gpu/gpu_device.cc:1618] Found device 0 with properties: \n",
            "name: Tesla T4 major: 7 minor: 5 memoryClockRate(GHz): 1.59\n",
            "pciBusID: 0000:00:04.0\n",
            "2020-07-01 09:18:52.714193: I tensorflow/stream_executor/platform/default/dso_loader.cc:44] Successfully opened dynamic library libcudart.so.10.0\n",
            "2020-07-01 09:18:52.714217: I tensorflow/stream_executor/platform/default/dso_loader.cc:44] Successfully opened dynamic library libcublas.so.10.0\n",
            "2020-07-01 09:18:52.714236: I tensorflow/stream_executor/platform/default/dso_loader.cc:44] Successfully opened dynamic library libcufft.so.10.0\n",
            "2020-07-01 09:18:52.714255: I tensorflow/stream_executor/platform/default/dso_loader.cc:44] Successfully opened dynamic library libcurand.so.10.0\n",
            "2020-07-01 09:18:52.714279: I tensorflow/stream_executor/platform/default/dso_loader.cc:44] Successfully opened dynamic library libcusolver.so.10.0\n",
            "2020-07-01 09:18:52.714296: I tensorflow/stream_executor/platform/default/dso_loader.cc:44] Successfully opened dynamic library libcusparse.so.10.0\n",
            "2020-07-01 09:18:52.714314: I tensorflow/stream_executor/platform/default/dso_loader.cc:44] Successfully opened dynamic library libcudnn.so.7\n",
            "2020-07-01 09:18:52.714381: I tensorflow/stream_executor/cuda/cuda_gpu_executor.cc:983] successful NUMA node read from SysFS had negative value (-1), but there must be at least one NUMA node, so returning NUMA node zero\n",
            "2020-07-01 09:18:52.714956: I tensorflow/stream_executor/cuda/cuda_gpu_executor.cc:983] successful NUMA node read from SysFS had negative value (-1), but there must be at least one NUMA node, so returning NUMA node zero\n",
            "2020-07-01 09:18:52.715423: I tensorflow/core/common_runtime/gpu/gpu_device.cc:1746] Adding visible gpu devices: 0\n",
            "2020-07-01 09:18:52.715483: I tensorflow/stream_executor/platform/default/dso_loader.cc:44] Successfully opened dynamic library libcudart.so.10.0\n",
            "2020-07-01 09:18:52.716526: I tensorflow/core/common_runtime/gpu/gpu_device.cc:1159] Device interconnect StreamExecutor with strength 1 edge matrix:\n",
            "2020-07-01 09:18:52.716559: I tensorflow/core/common_runtime/gpu/gpu_device.cc:1165]      0 \n",
            "2020-07-01 09:18:52.716574: I tensorflow/core/common_runtime/gpu/gpu_device.cc:1178] 0:   N \n",
            "2020-07-01 09:18:52.716698: I tensorflow/stream_executor/cuda/cuda_gpu_executor.cc:983] successful NUMA node read from SysFS had negative value (-1), but there must be at least one NUMA node, so returning NUMA node zero\n",
            "2020-07-01 09:18:52.717280: I tensorflow/stream_executor/cuda/cuda_gpu_executor.cc:983] successful NUMA node read from SysFS had negative value (-1), but there must be at least one NUMA node, so returning NUMA node zero\n",
            "2020-07-01 09:18:52.717801: W tensorflow/core/common_runtime/gpu/gpu_bfc_allocator.cc:39] Overriding allow_growth setting because the TF_FORCE_GPU_ALLOW_GROWTH environment variable is set. Original config value was 0.\n",
            "2020-07-01 09:18:52.717839: I tensorflow/core/common_runtime/gpu/gpu_device.cc:1304] Created TensorFlow device (/job:localhost/replica:0/task:0/device:GPU:0 with 14221 MB memory) -> physical GPU (device: 0, name: Tesla T4, pci bus id: 0000:00:04.0, compute capability: 7.5)\n",
            "2020-07-01 09:19:00.843768: I tensorflow/stream_executor/cuda/cuda_gpu_executor.cc:983] successful NUMA node read from SysFS had negative value (-1), but there must be at least one NUMA node, so returning NUMA node zero\n",
            "2020-07-01 09:19:00.844324: I tensorflow/core/common_runtime/gpu/gpu_device.cc:1618] Found device 0 with properties: \n",
            "name: Tesla T4 major: 7 minor: 5 memoryClockRate(GHz): 1.59\n",
            "pciBusID: 0000:00:04.0\n",
            "2020-07-01 09:19:00.844400: I tensorflow/stream_executor/platform/default/dso_loader.cc:44] Successfully opened dynamic library libcudart.so.10.0\n",
            "2020-07-01 09:19:00.844423: I tensorflow/stream_executor/platform/default/dso_loader.cc:44] Successfully opened dynamic library libcublas.so.10.0\n",
            "2020-07-01 09:19:00.844442: I tensorflow/stream_executor/platform/default/dso_loader.cc:44] Successfully opened dynamic library libcufft.so.10.0\n",
            "2020-07-01 09:19:00.844457: I tensorflow/stream_executor/platform/default/dso_loader.cc:44] Successfully opened dynamic library libcurand.so.10.0\n",
            "2020-07-01 09:19:00.844486: I tensorflow/stream_executor/platform/default/dso_loader.cc:44] Successfully opened dynamic library libcusolver.so.10.0\n",
            "2020-07-01 09:19:00.844506: I tensorflow/stream_executor/platform/default/dso_loader.cc:44] Successfully opened dynamic library libcusparse.so.10.0\n",
            "2020-07-01 09:19:00.844524: I tensorflow/stream_executor/platform/default/dso_loader.cc:44] Successfully opened dynamic library libcudnn.so.7\n",
            "2020-07-01 09:19:00.844622: I tensorflow/stream_executor/cuda/cuda_gpu_executor.cc:983] successful NUMA node read from SysFS had negative value (-1), but there must be at least one NUMA node, so returning NUMA node zero\n",
            "2020-07-01 09:19:00.845146: I tensorflow/stream_executor/cuda/cuda_gpu_executor.cc:983] successful NUMA node read from SysFS had negative value (-1), but there must be at least one NUMA node, so returning NUMA node zero\n",
            "2020-07-01 09:19:00.845637: I tensorflow/core/common_runtime/gpu/gpu_device.cc:1746] Adding visible gpu devices: 0\n",
            "2020-07-01 09:19:00.845676: I tensorflow/core/common_runtime/gpu/gpu_device.cc:1159] Device interconnect StreamExecutor with strength 1 edge matrix:\n",
            "2020-07-01 09:19:00.845690: I tensorflow/core/common_runtime/gpu/gpu_device.cc:1165]      0 \n",
            "2020-07-01 09:19:00.845699: I tensorflow/core/common_runtime/gpu/gpu_device.cc:1178] 0:   N \n",
            "2020-07-01 09:19:00.845787: I tensorflow/stream_executor/cuda/cuda_gpu_executor.cc:983] successful NUMA node read from SysFS had negative value (-1), but there must be at least one NUMA node, so returning NUMA node zero\n",
            "2020-07-01 09:19:00.846299: I tensorflow/stream_executor/cuda/cuda_gpu_executor.cc:983] successful NUMA node read from SysFS had negative value (-1), but there must be at least one NUMA node, so returning NUMA node zero\n",
            "2020-07-01 09:19:00.846792: I tensorflow/core/common_runtime/gpu/gpu_device.cc:1304] Created TensorFlow device (/job:localhost/replica:0/task:0/device:GPU:0 with 14221 MB memory) -> physical GPU (device: 0, name: Tesla T4, pci bus id: 0000:00:04.0, compute capability: 7.5)\n",
            "2020-07-01 09:19:08.940253: I tensorflow/stream_executor/cuda/cuda_gpu_executor.cc:983] successful NUMA node read from SysFS had negative value (-1), but there must be at least one NUMA node, so returning NUMA node zero\n",
            "2020-07-01 09:19:08.940864: I tensorflow/core/common_runtime/gpu/gpu_device.cc:1618] Found device 0 with properties: \n",
            "name: Tesla T4 major: 7 minor: 5 memoryClockRate(GHz): 1.59\n",
            "pciBusID: 0000:00:04.0\n",
            "2020-07-01 09:19:08.940948: I tensorflow/stream_executor/platform/default/dso_loader.cc:44] Successfully opened dynamic library libcudart.so.10.0\n",
            "2020-07-01 09:19:08.940972: I tensorflow/stream_executor/platform/default/dso_loader.cc:44] Successfully opened dynamic library libcublas.so.10.0\n",
            "2020-07-01 09:19:08.940989: I tensorflow/stream_executor/platform/default/dso_loader.cc:44] Successfully opened dynamic library libcufft.so.10.0\n",
            "2020-07-01 09:19:08.941007: I tensorflow/stream_executor/platform/default/dso_loader.cc:44] Successfully opened dynamic library libcurand.so.10.0\n",
            "2020-07-01 09:19:08.941034: I tensorflow/stream_executor/platform/default/dso_loader.cc:44] Successfully opened dynamic library libcusolver.so.10.0\n",
            "2020-07-01 09:19:08.941049: I tensorflow/stream_executor/platform/default/dso_loader.cc:44] Successfully opened dynamic library libcusparse.so.10.0\n",
            "2020-07-01 09:19:08.941069: I tensorflow/stream_executor/platform/default/dso_loader.cc:44] Successfully opened dynamic library libcudnn.so.7\n",
            "2020-07-01 09:19:08.941150: I tensorflow/stream_executor/cuda/cuda_gpu_executor.cc:983] successful NUMA node read from SysFS had negative value (-1), but there must be at least one NUMA node, so returning NUMA node zero\n",
            "2020-07-01 09:19:08.941701: I tensorflow/stream_executor/cuda/cuda_gpu_executor.cc:983] successful NUMA node read from SysFS had negative value (-1), but there must be at least one NUMA node, so returning NUMA node zero\n",
            "2020-07-01 09:19:08.942169: I tensorflow/core/common_runtime/gpu/gpu_device.cc:1746] Adding visible gpu devices: 0\n",
            "2020-07-01 09:19:08.942213: I tensorflow/core/common_runtime/gpu/gpu_device.cc:1159] Device interconnect StreamExecutor with strength 1 edge matrix:\n",
            "2020-07-01 09:19:08.942235: I tensorflow/core/common_runtime/gpu/gpu_device.cc:1165]      0 \n",
            "2020-07-01 09:19:08.942244: I tensorflow/core/common_runtime/gpu/gpu_device.cc:1178] 0:   N \n",
            "2020-07-01 09:19:08.942325: I tensorflow/stream_executor/cuda/cuda_gpu_executor.cc:983] successful NUMA node read from SysFS had negative value (-1), but there must be at least one NUMA node, so returning NUMA node zero\n",
            "2020-07-01 09:19:08.942854: I tensorflow/stream_executor/cuda/cuda_gpu_executor.cc:983] successful NUMA node read from SysFS had negative value (-1), but there must be at least one NUMA node, so returning NUMA node zero\n",
            "2020-07-01 09:19:08.943333: I tensorflow/core/common_runtime/gpu/gpu_device.cc:1304] Created TensorFlow device (/job:localhost/replica:0/task:0/device:GPU:0 with 14221 MB memory) -> physical GPU (device: 0, name: Tesla T4, pci bus id: 0000:00:04.0, compute capability: 7.5)\n",
            "2020-07-01 09:19:16.522933: I tensorflow/stream_executor/cuda/cuda_gpu_executor.cc:983] successful NUMA node read from SysFS had negative value (-1), but there must be at least one NUMA node, so returning NUMA node zero\n",
            "2020-07-01 09:19:16.523557: I tensorflow/core/common_runtime/gpu/gpu_device.cc:1618] Found device 0 with properties: \n",
            "name: Tesla T4 major: 7 minor: 5 memoryClockRate(GHz): 1.59\n",
            "pciBusID: 0000:00:04.0\n",
            "2020-07-01 09:19:16.523648: I tensorflow/stream_executor/platform/default/dso_loader.cc:44] Successfully opened dynamic library libcudart.so.10.0\n",
            "2020-07-01 09:19:16.523675: I tensorflow/stream_executor/platform/default/dso_loader.cc:44] Successfully opened dynamic library libcublas.so.10.0\n",
            "2020-07-01 09:19:16.523692: I tensorflow/stream_executor/platform/default/dso_loader.cc:44] Successfully opened dynamic library libcufft.so.10.0\n",
            "2020-07-01 09:19:16.523710: I tensorflow/stream_executor/platform/default/dso_loader.cc:44] Successfully opened dynamic library libcurand.so.10.0\n",
            "2020-07-01 09:19:16.523728: I tensorflow/stream_executor/platform/default/dso_loader.cc:44] Successfully opened dynamic library libcusolver.so.10.0\n",
            "2020-07-01 09:19:16.523746: I tensorflow/stream_executor/platform/default/dso_loader.cc:44] Successfully opened dynamic library libcusparse.so.10.0\n",
            "2020-07-01 09:19:16.523764: I tensorflow/stream_executor/platform/default/dso_loader.cc:44] Successfully opened dynamic library libcudnn.so.7\n",
            "2020-07-01 09:19:16.523841: I tensorflow/stream_executor/cuda/cuda_gpu_executor.cc:983] successful NUMA node read from SysFS had negative value (-1), but there must be at least one NUMA node, so returning NUMA node zero\n",
            "2020-07-01 09:19:16.524359: I tensorflow/stream_executor/cuda/cuda_gpu_executor.cc:983] successful NUMA node read from SysFS had negative value (-1), but there must be at least one NUMA node, so returning NUMA node zero\n",
            "2020-07-01 09:19:16.524845: I tensorflow/core/common_runtime/gpu/gpu_device.cc:1746] Adding visible gpu devices: 0\n",
            "2020-07-01 09:19:16.524886: I tensorflow/core/common_runtime/gpu/gpu_device.cc:1159] Device interconnect StreamExecutor with strength 1 edge matrix:\n",
            "2020-07-01 09:19:16.524901: I tensorflow/core/common_runtime/gpu/gpu_device.cc:1165]      0 \n",
            "2020-07-01 09:19:16.524910: I tensorflow/core/common_runtime/gpu/gpu_device.cc:1178] 0:   N \n",
            "2020-07-01 09:19:16.524998: I tensorflow/stream_executor/cuda/cuda_gpu_executor.cc:983] successful NUMA node read from SysFS had negative value (-1), but there must be at least one NUMA node, so returning NUMA node zero\n",
            "2020-07-01 09:19:16.525513: I tensorflow/stream_executor/cuda/cuda_gpu_executor.cc:983] successful NUMA node read from SysFS had negative value (-1), but there must be at least one NUMA node, so returning NUMA node zero\n",
            "2020-07-01 09:19:16.526012: I tensorflow/core/common_runtime/gpu/gpu_device.cc:1304] Created TensorFlow device (/job:localhost/replica:0/task:0/device:GPU:0 with 14221 MB memory) -> physical GPU (device: 0, name: Tesla T4, pci bus id: 0000:00:04.0, compute capability: 7.5)\n"
          ],
          "name": "stdout"
        }
      ]
    },
    {
      "cell_type": "markdown",
      "metadata": {
        "colab_type": "text",
        "id": "eSCjspczbZZD"
      },
      "source": [
        "Low resulotion"
      ]
    },
    {
      "cell_type": "code",
      "metadata": {
        "colab_type": "code",
        "id": "G4LEjA_HbbA0",
        "colab": {
          "base_uri": "https://localhost:8080/",
          "height": 819
        },
        "outputId": "c547e438-2802-4172-b336-40afb6ab3f6d"
      },
      "source": [
        "!python preprocessing/blur_preprocessing.py --img-dir=\"dataset/lr_stylegan\" --output-dir=\"/content/drive/My Drive/Colab Notebooks/ex3/motion/5/low_res/blurred\" --kernel-size=5 --kernel-type=\"x_motion\""
      ],
      "execution_count": null,
      "outputs": [
        {
          "output_type": "stream",
          "text": [
            "WARNING:tensorflow:From preprocessing/blur_preprocessing.py:16: The name tf.Session is deprecated. Please use tf.compat.v1.Session instead.\n",
            "\n",
            "2020-07-01 09:20:19.580333: I tensorflow/stream_executor/platform/default/dso_loader.cc:44] Successfully opened dynamic library libcuda.so.1\n",
            "2020-07-01 09:20:19.616526: I tensorflow/stream_executor/cuda/cuda_gpu_executor.cc:983] successful NUMA node read from SysFS had negative value (-1), but there must be at least one NUMA node, so returning NUMA node zero\n",
            "2020-07-01 09:20:19.617100: I tensorflow/core/common_runtime/gpu/gpu_device.cc:1618] Found device 0 with properties: \n",
            "name: Tesla T4 major: 7 minor: 5 memoryClockRate(GHz): 1.59\n",
            "pciBusID: 0000:00:04.0\n",
            "2020-07-01 09:20:19.617346: I tensorflow/stream_executor/platform/default/dso_loader.cc:44] Successfully opened dynamic library libcudart.so.10.0\n",
            "2020-07-01 09:20:19.619659: I tensorflow/stream_executor/platform/default/dso_loader.cc:44] Successfully opened dynamic library libcublas.so.10.0\n",
            "2020-07-01 09:20:19.628256: I tensorflow/stream_executor/platform/default/dso_loader.cc:44] Successfully opened dynamic library libcufft.so.10.0\n",
            "2020-07-01 09:20:19.628569: I tensorflow/stream_executor/platform/default/dso_loader.cc:44] Successfully opened dynamic library libcurand.so.10.0\n",
            "2020-07-01 09:20:19.629935: I tensorflow/stream_executor/platform/default/dso_loader.cc:44] Successfully opened dynamic library libcusolver.so.10.0\n",
            "2020-07-01 09:20:19.636490: I tensorflow/stream_executor/platform/default/dso_loader.cc:44] Successfully opened dynamic library libcusparse.so.10.0\n",
            "2020-07-01 09:20:19.656252: I tensorflow/stream_executor/platform/default/dso_loader.cc:44] Successfully opened dynamic library libcudnn.so.7\n",
            "2020-07-01 09:20:19.656357: I tensorflow/stream_executor/cuda/cuda_gpu_executor.cc:983] successful NUMA node read from SysFS had negative value (-1), but there must be at least one NUMA node, so returning NUMA node zero\n",
            "2020-07-01 09:20:19.656953: I tensorflow/stream_executor/cuda/cuda_gpu_executor.cc:983] successful NUMA node read from SysFS had negative value (-1), but there must be at least one NUMA node, so returning NUMA node zero\n",
            "2020-07-01 09:20:19.657451: I tensorflow/core/common_runtime/gpu/gpu_device.cc:1746] Adding visible gpu devices: 0\n",
            "2020-07-01 09:20:19.657774: I tensorflow/core/platform/cpu_feature_guard.cc:142] Your CPU supports instructions that this TensorFlow binary was not compiled to use: AVX2 AVX512F FMA\n",
            "2020-07-01 09:20:19.662390: I tensorflow/core/platform/profile_utils/cpu_utils.cc:94] CPU Frequency: 2000129999 Hz\n",
            "2020-07-01 09:20:19.662580: I tensorflow/compiler/xla/service/service.cc:168] XLA service 0x1976bc0 initialized for platform Host (this does not guarantee that XLA will be used). Devices:\n",
            "2020-07-01 09:20:19.662633: I tensorflow/compiler/xla/service/service.cc:176]   StreamExecutor device (0): Host, Default Version\n",
            "2020-07-01 09:20:19.765042: I tensorflow/stream_executor/cuda/cuda_gpu_executor.cc:983] successful NUMA node read from SysFS had negative value (-1), but there must be at least one NUMA node, so returning NUMA node zero\n",
            "2020-07-01 09:20:19.765703: I tensorflow/compiler/xla/service/service.cc:168] XLA service 0x1976d80 initialized for platform CUDA (this does not guarantee that XLA will be used). Devices:\n",
            "2020-07-01 09:20:19.765735: I tensorflow/compiler/xla/service/service.cc:176]   StreamExecutor device (0): Tesla T4, Compute Capability 7.5\n",
            "2020-07-01 09:20:19.765902: I tensorflow/stream_executor/cuda/cuda_gpu_executor.cc:983] successful NUMA node read from SysFS had negative value (-1), but there must be at least one NUMA node, so returning NUMA node zero\n",
            "2020-07-01 09:20:19.766415: I tensorflow/core/common_runtime/gpu/gpu_device.cc:1618] Found device 0 with properties: \n",
            "name: Tesla T4 major: 7 minor: 5 memoryClockRate(GHz): 1.59\n",
            "pciBusID: 0000:00:04.0\n",
            "2020-07-01 09:20:19.766474: I tensorflow/stream_executor/platform/default/dso_loader.cc:44] Successfully opened dynamic library libcudart.so.10.0\n",
            "2020-07-01 09:20:19.766495: I tensorflow/stream_executor/platform/default/dso_loader.cc:44] Successfully opened dynamic library libcublas.so.10.0\n",
            "2020-07-01 09:20:19.766514: I tensorflow/stream_executor/platform/default/dso_loader.cc:44] Successfully opened dynamic library libcufft.so.10.0\n",
            "2020-07-01 09:20:19.766533: I tensorflow/stream_executor/platform/default/dso_loader.cc:44] Successfully opened dynamic library libcurand.so.10.0\n",
            "2020-07-01 09:20:19.766557: I tensorflow/stream_executor/platform/default/dso_loader.cc:44] Successfully opened dynamic library libcusolver.so.10.0\n",
            "2020-07-01 09:20:19.766574: I tensorflow/stream_executor/platform/default/dso_loader.cc:44] Successfully opened dynamic library libcusparse.so.10.0\n",
            "2020-07-01 09:20:19.766619: I tensorflow/stream_executor/platform/default/dso_loader.cc:44] Successfully opened dynamic library libcudnn.so.7\n",
            "2020-07-01 09:20:19.766697: I tensorflow/stream_executor/cuda/cuda_gpu_executor.cc:983] successful NUMA node read from SysFS had negative value (-1), but there must be at least one NUMA node, so returning NUMA node zero\n",
            "2020-07-01 09:20:19.767226: I tensorflow/stream_executor/cuda/cuda_gpu_executor.cc:983] successful NUMA node read from SysFS had negative value (-1), but there must be at least one NUMA node, so returning NUMA node zero\n",
            "2020-07-01 09:20:19.767736: I tensorflow/core/common_runtime/gpu/gpu_device.cc:1746] Adding visible gpu devices: 0\n",
            "2020-07-01 09:20:19.767799: I tensorflow/stream_executor/platform/default/dso_loader.cc:44] Successfully opened dynamic library libcudart.so.10.0\n",
            "2020-07-01 09:20:19.768804: I tensorflow/core/common_runtime/gpu/gpu_device.cc:1159] Device interconnect StreamExecutor with strength 1 edge matrix:\n",
            "2020-07-01 09:20:19.768832: I tensorflow/core/common_runtime/gpu/gpu_device.cc:1165]      0 \n",
            "2020-07-01 09:20:19.768845: I tensorflow/core/common_runtime/gpu/gpu_device.cc:1178] 0:   N \n",
            "2020-07-01 09:20:19.768956: I tensorflow/stream_executor/cuda/cuda_gpu_executor.cc:983] successful NUMA node read from SysFS had negative value (-1), but there must be at least one NUMA node, so returning NUMA node zero\n",
            "2020-07-01 09:20:19.769492: I tensorflow/stream_executor/cuda/cuda_gpu_executor.cc:983] successful NUMA node read from SysFS had negative value (-1), but there must be at least one NUMA node, so returning NUMA node zero\n",
            "2020-07-01 09:20:19.770006: W tensorflow/core/common_runtime/gpu/gpu_bfc_allocator.cc:39] Overriding allow_growth setting because the TF_FORCE_GPU_ALLOW_GROWTH environment variable is set. Original config value was 0.\n",
            "2020-07-01 09:20:19.770047: I tensorflow/core/common_runtime/gpu/gpu_device.cc:1304] Created TensorFlow device (/job:localhost/replica:0/task:0/device:GPU:0 with 14221 MB memory) -> physical GPU (device: 0, name: Tesla T4, pci bus id: 0000:00:04.0, compute capability: 7.5)\n"
          ],
          "name": "stdout"
        }
      ]
    },
    {
      "cell_type": "markdown",
      "metadata": {
        "colab_type": "text",
        "id": "0hsH3BU-byHs"
      },
      "source": [
        "####**Deblurring**"
      ]
    },
    {
      "cell_type": "markdown",
      "metadata": {
        "colab_type": "text",
        "id": "4vCRiouUbyHt"
      },
      "source": [
        "2500 iterations + regularization"
      ]
    },
    {
      "cell_type": "code",
      "metadata": {
        "colab_type": "code",
        "id": "Oe5NfvgkbyHt",
        "colab": {
          "base_uri": "https://localhost:8080/",
          "height": 802
        },
        "outputId": "58211f14-351e-4fab-9b21-b627af53dfe2"
      },
      "source": [
        "!python deblurring.py --input-size 1024 1024 --blurred-imgs-dir=\"/content/drive/My Drive/Colab Notebooks/ex3/motion/25/full_res/blurred\" --deblurred-imgs-dir=\"/content/drive/My Drive/Colab Notebooks/ex3/motion/25/full_res/deblurred_reg_2500\" --latents-dir=\"/content/drive/My Drive/Colab Notebooks/ex3/motion/25/full_res/latents_dir_reg_2500\" --kernel-size=25 --beta=0.1 --reg=\"grad\" --kernel-type=\"x_motion\" --total-iterations=2500"
      ],
      "execution_count": null,
      "outputs": [
        {
          "output_type": "stream",
          "text": [
            "WARNING:tensorflow:From stylegan/dnnlib/tflib/tfutil.py:34: The name tf.Dimension is deprecated. Please use tf.compat.v1.Dimension instead.\n",
            "\n",
            "WARNING:tensorflow:From stylegan/dnnlib/tflib/tfutil.py:74: The name tf.variable_scope is deprecated. Please use tf.compat.v1.variable_scope instead.\n",
            "\n",
            "WARNING:tensorflow:From stylegan/dnnlib/tflib/tfutil.py:128: The name tf.Session is deprecated. Please use tf.compat.v1.Session instead.\n",
            "\n",
            "Using TensorFlow backend.\n",
            "WARNING:tensorflow:From stylegan/dnnlib/tflib/tfutil.py:97: The name tf.get_default_session is deprecated. Please use tf.compat.v1.get_default_session instead.\n",
            "\n",
            "WARNING:tensorflow:From stylegan/dnnlib/tflib/tfutil.py:109: The name tf.set_random_seed is deprecated. Please use tf.compat.v1.set_random_seed instead.\n",
            "\n",
            "WARNING:tensorflow:From stylegan/dnnlib/tflib/tfutil.py:132: The name tf.ConfigProto is deprecated. Please use tf.compat.v1.ConfigProto instead.\n",
            "\n",
            "WARNING:tensorflow:From stylegan/dnnlib/tflib/network.py:142: The name tf.get_default_graph is deprecated. Please use tf.compat.v1.get_default_graph instead.\n",
            "\n",
            "WARNING:tensorflow:From stylegan/dnnlib/tflib/network.py:150: The name tf.AUTO_REUSE is deprecated. Please use tf.compat.v1.AUTO_REUSE instead.\n",
            "\n",
            "WARNING:tensorflow:From stylegan/dnnlib/tflib/tfutil.py:76: The name tf.VariableScope is deprecated. Please use tf.compat.v1.VariableScope instead.\n",
            "\n",
            "WARNING:tensorflow:From stylegan/dnnlib/tflib/network.py:151: The name tf.get_variable_scope is deprecated. Please use tf.compat.v1.get_variable_scope instead.\n",
            "\n",
            "WARNING:tensorflow:From stylegan/dnnlib/tflib/network.py:154: The name tf.placeholder is deprecated. Please use tf.compat.v1.placeholder instead.\n",
            "\n",
            "WARNING:tensorflow:From stylegan/dnnlib/tflib/network.py:182: The name tf.global_variables is deprecated. Please use tf.compat.v1.global_variables instead.\n",
            "\n",
            "WARNING:tensorflow:From stylegan/dnnlib/tflib/tfutil.py:200: The name tf.assign is deprecated. Please use tf.compat.v1.assign instead.\n",
            "\n",
            "WARNING:tensorflow:From <string>:364: where (from tensorflow.python.ops.array_ops) is deprecated and will be removed in a future version.\n",
            "Instructions for updating:\n",
            "Use tf.where in 2.0, which has the same broadcast rule as np.where\n",
            "WARNING:tensorflow:From deblurring.py:63: The name tf.image.resize_images is deprecated. Please use tf.image.resize instead.\n",
            "\n",
            "WARNING:tensorflow:From /usr/local/lib/python3.6/dist-packages/tensorflow_core/python/ops/resource_variable_ops.py:1630: calling BaseResourceVariable.__init__ (from tensorflow.python.ops.resource_variable_ops) with constraint is deprecated and will be removed in a future version.\n",
            "Instructions for updating:\n",
            "If using Keras pass *_constraint arguments to layers.\n",
            "WARNING:tensorflow:From /usr/local/lib/python3.6/dist-packages/keras/backend/tensorflow_backend.py:4070: The name tf.nn.max_pool is deprecated. Please use tf.nn.max_pool2d instead.\n",
            "\n",
            "WARNING:tensorflow:From deblurring.py:83: The name tf.train.AdamOptimizer is deprecated. Please use tf.compat.v1.train.AdamOptimizer instead.\n",
            "\n",
            "WARNING:tensorflow:From deblurring.py:92: The name tf.variables_initializer is deprecated. Please use tf.compat.v1.variables_initializer instead.\n",
            "\n",
            "00000.png: 100% 2500/2500 [42:36<00:00,  1.02s/it, loss=20.65]\n",
            "00002.png: 100% 2500/2500 [42:24<00:00,  1.02s/it, loss=16.07]\n",
            "1.jpg: 100% 2500/2500 [42:25<00:00,  1.02s/it, loss=24.41]\n",
            "2.jpg: 100% 2500/2500 [42:24<00:00,  1.02s/it, loss=22.12]\n"
          ],
          "name": "stdout"
        }
      ]
    },
    {
      "cell_type": "code",
      "metadata": {
        "colab_type": "code",
        "id": "UQvWIltObyHw",
        "colab": {}
      },
      "source": [
        "!python deblurring.py --input-size 128 128 --blurred-imgs-dir=\"/content/drive/My Drive/Colab Notebooks/ex3/motion/5/low_res/blurred\" --deblurred-imgs-dir=\"/content/drive/My Drive/Colab Notebooks/ex3/motion/5/low_res/deblurred_reg_2500\" --latents-dir=\"/content/drive/My Drive/Colab Notebooks/ex3/motion/5/low_res/latents_dir_reg_2500\" --kernel-size=5 --beta=0.1 --reg=\"grad\" --kernel-type=\"x_motion\" --total-iterations=2500"
      ],
      "execution_count": null,
      "outputs": []
    },
    {
      "cell_type": "markdown",
      "metadata": {
        "colab_type": "text",
        "id": "iY49wEvubyHy"
      },
      "source": [
        "1000 iterations + no regularization"
      ]
    },
    {
      "cell_type": "code",
      "metadata": {
        "colab_type": "code",
        "id": "sYR4nTb_byHy",
        "colab": {}
      },
      "source": [
        "!python deblurring.py --input-size 1024 1024 --blurred-imgs-dir=\"/content/drive/My Drive/Colab Notebooks/ex3/motion/25/full_res/blurred\" --deblurred-imgs-dir=\"/content/drive/My Drive/Colab Notebooks/ex3/motion/25/full_res/deblurred_no_reg_1000\" --latents-dir=\"/content/drive/My Drive/Colab Notebooks/ex3/motion/25/full_res/latents_dir_no_reg_1000\" --kernel-size=25 --beta=0.0 --reg=\"grad\" --kernel-type=\"x_motion\" --total-iterations=1000"
      ],
      "execution_count": null,
      "outputs": []
    },
    {
      "cell_type": "code",
      "metadata": {
        "colab_type": "code",
        "id": "mLmiotOFbyHz",
        "colab": {}
      },
      "source": [
        "!python deblurring.py --input-size 128 128 --blurred-imgs-dir=\"/content/drive/My Drive/Colab Notebooks/ex3/motion/5/low_res/blurred\" --deblurred-imgs-dir=\"/content/drive/My Drive/Colab Notebooks/ex3/motion/5/low_res/deblurred_no_reg_1000\" --latents-dir=\"/content/drive/My Drive/Colab Notebooks/ex3/motion/5/low_res/latents_dir_no_reg_1000\" --kernel-size=5 --beta=0.0 --reg=\"grad\" --kernel-type=\"x_motion\" --total-iterations=1000"
      ],
      "execution_count": null,
      "outputs": []
    },
    {
      "cell_type": "markdown",
      "metadata": {
        "colab_type": "text",
        "id": "C4aSIMPObyH1"
      },
      "source": [
        "1000 iterations + regularization"
      ]
    },
    {
      "cell_type": "code",
      "metadata": {
        "colab_type": "code",
        "id": "H_CA5Ve9byH1",
        "colab": {}
      },
      "source": [
        "!python deblurring.py --input-size 1024 1024 --blurred-imgs-dir=\"/content/drive/My Drive/Colab Notebooks/ex3/motion/25/full_res/blurred\" --deblurred-imgs-dir=\"/content/drive/My Drive/Colab Notebooks/ex3/motion/25/full_res/deblurred_reg_1000\" --latents-dir=\"/content/drive/My Drive/Colab Notebooks/ex3/motion/25/full_res/latents_dir_reg_1000\" --kernel-size=25 --beta=0.1 --reg=\"grad\" --kernel-type=\"x_motion\" --total-iterations=1000"
      ],
      "execution_count": null,
      "outputs": []
    },
    {
      "cell_type": "code",
      "metadata": {
        "colab_type": "code",
        "id": "nQ-z1QL6byH3",
        "colab": {}
      },
      "source": [
        "!python deblurring.py --input-size 128 128 --blurred-imgs-dir=\"/content/drive/My Drive/Colab Notebooks/ex3/motion/5/low_res/blurred\" --deblurred-imgs-dir=\"/content/drive/My Drive/Colab Notebooks/ex3/motion/5/low_res/deblurred_reg_1000\" --latents-dir=\"/content/drive/My Drive/Colab Notebooks/ex3/motion/5/low_res/latents_dir_reg_1000\" --kernel-size=5 --beta=0.1 --reg=\"grad\" --kernel-type=\"x_motion\" --total-iterations=1000"
      ],
      "execution_count": null,
      "outputs": []
    },
    {
      "cell_type": "markdown",
      "metadata": {
        "colab_type": "text",
        "id": "tp7fMPoKd20X"
      },
      "source": [
        "### *Disk Kernal*"
      ]
    },
    {
      "cell_type": "markdown",
      "metadata": {
        "colab_type": "text",
        "id": "5-6wEv-fd20c"
      },
      "source": [
        "####**Blurring**\n"
      ]
    },
    {
      "cell_type": "markdown",
      "metadata": {
        "colab_type": "text",
        "id": "3wIJ6IvRd20c"
      },
      "source": [
        "Full resolution"
      ]
    },
    {
      "cell_type": "code",
      "metadata": {
        "colab_type": "code",
        "id": "UUiRqfCcd20d",
        "colab": {}
      },
      "source": [
        "!python preprocessing/blur_preprocessing.py --img-dir=\"dataset/full_resolution_stylegan\" --output-dir=\"/content/drive/My Drive/Colab Notebooks/ex3/disk/11/full_res/blurred\" --kernel-size=11 --kernel-type=\"disk\""
      ],
      "execution_count": null,
      "outputs": []
    },
    {
      "cell_type": "markdown",
      "metadata": {
        "colab_type": "text",
        "id": "ImxWpHTFd20i"
      },
      "source": [
        "####**Deblurring**"
      ]
    },
    {
      "cell_type": "markdown",
      "metadata": {
        "colab_type": "text",
        "id": "MoT_qh1Fd20i"
      },
      "source": [
        "2500 iterations + regularization"
      ]
    },
    {
      "cell_type": "code",
      "metadata": {
        "colab_type": "code",
        "id": "shNaGQGAd20j",
        "colab": {}
      },
      "source": [
        "!python deblurring.py --input-size 1024 1024 --blurred-imgs-dir=\"/content/drive/My Drive/Colab Notebooks/ex3/disk/11/full_res/blurred\" --deblurred-imgs-dir=\"/content/drive/My Drive/Colab Notebooks/ex3/disk/11/full_res/deblurred_reg_2500\" --latents-dir=\"/content/drive/My Drive/Colab Notebooks/ex3/disk/11/full_res/latents_dir_reg_2500\" --kernel-size=11 --beta=0.1 --reg=\"grad\" --kernel-type=\"disk\" --total-iterations=2500"
      ],
      "execution_count": null,
      "outputs": []
    },
    {
      "cell_type": "markdown",
      "metadata": {
        "colab_type": "text",
        "id": "wavZrPuieeCM"
      },
      "source": [
        "### *Median Kernal*"
      ]
    },
    {
      "cell_type": "markdown",
      "metadata": {
        "colab_type": "text",
        "id": "jTkRIGlUeeCQ"
      },
      "source": [
        "####**Blurring**\n"
      ]
    },
    {
      "cell_type": "markdown",
      "metadata": {
        "colab_type": "text",
        "id": "Tnby8Hm3eeCQ"
      },
      "source": [
        "Full resolution"
      ]
    },
    {
      "cell_type": "code",
      "metadata": {
        "colab_type": "code",
        "id": "lR2DUmYAeeCR",
        "colab": {}
      },
      "source": [
        "!python preprocessing/blur_preprocessing.py --img-dir=\"dataset/full_resolution_stylegan\" --output-dir=\"/content/drive/My Drive/Colab Notebooks/ex3/median/9/full_res/blurred\" --kernel-size=9 --kernel-type=\"median\""
      ],
      "execution_count": null,
      "outputs": []
    },
    {
      "cell_type": "markdown",
      "metadata": {
        "colab_type": "text",
        "id": "A9OTy4FneeCU"
      },
      "source": [
        "####**Deblurring**"
      ]
    },
    {
      "cell_type": "markdown",
      "metadata": {
        "colab_type": "text",
        "id": "Z4Ufrm6heeCU"
      },
      "source": [
        "2500 iterations + regularization"
      ]
    },
    {
      "cell_type": "code",
      "metadata": {
        "colab_type": "code",
        "id": "LRVq5d6WeeCV",
        "colab": {}
      },
      "source": [
        "!python deblurring.py --input-size 1024 1024 --blurred-imgs-dir=\"/content/drive/My Drive/Colab Notebooks/ex3/median/9/full_res/blurred\" --deblurred-imgs-dir=\"/content/drive/My Drive/Colab Notebooks/ex3/median/9/full_res/deblurred_reg_2500\" --latents-dir=\"/content/drive/My Drive/Colab Notebooks/ex3/median/9/full_res/latents_dir_reg_2500\" --kernel-size=9 --reg=\"grad\" --kernel-type=\"median\" --total-iterations=2500"
      ],
      "execution_count": null,
      "outputs": []
    },
    {
      "cell_type": "markdown",
      "metadata": {
        "colab_type": "text",
        "id": "WOJiF7yBfAZ7"
      },
      "source": [
        "### *Bilateral Kernal*"
      ]
    },
    {
      "cell_type": "markdown",
      "metadata": {
        "colab_type": "text",
        "id": "a4bOxo5ifAaA"
      },
      "source": [
        "####**Blurring**\n"
      ]
    },
    {
      "cell_type": "markdown",
      "metadata": {
        "colab_type": "text",
        "id": "yefUKFZ6fAaA"
      },
      "source": [
        "Full resolution"
      ]
    },
    {
      "cell_type": "code",
      "metadata": {
        "colab_type": "code",
        "id": "pRv2As2hfAaB",
        "colab": {}
      },
      "source": [
        "!python preprocessing/blur_preprocessing.py --img-dir=\"dataset/full_resolution_stylegan\" --output-dir=\"/content/drive/My Drive/Colab Notebooks/ex3/bi/9/full_res/blurred\" --kernel-size=9 --sigma=75 --kernel-type=\"bi\""
      ],
      "execution_count": null,
      "outputs": []
    },
    {
      "cell_type": "markdown",
      "metadata": {
        "colab_type": "text",
        "id": "0LtCFokUfAaE"
      },
      "source": [
        "####**Deblurring**"
      ]
    },
    {
      "cell_type": "markdown",
      "metadata": {
        "colab_type": "text",
        "id": "YkONHVF7fAaE"
      },
      "source": [
        "2500 iterations + regularization"
      ]
    },
    {
      "cell_type": "code",
      "metadata": {
        "colab_type": "code",
        "id": "GNQzZboWfAaF",
        "colab": {}
      },
      "source": [
        "!python deblurring.py --input-size 1024 1024 --blurred-imgs-dir=\"/content/drive/My Drive/Colab Notebooks/ex3/bi/9/full_res/blurred\" --deblurred-imgs-dir=\"/content/drive/My Drive/Colab Notebooks/ex3/bi/9/full_res/deblurred_reg_2500\" --latents-dir=\"/content/drive/My Drive/Colab Notebooks/ex3/bi/9/full_res/latents_dir_reg_2500\" --kernel-size=9 --sigma=75 --reg=\"grad\" --kernel-type=\"bi\" --total-iterations=2500"
      ],
      "execution_count": null,
      "outputs": []
    },
    {
      "cell_type": "markdown",
      "metadata": {
        "id": "bTHfZzrrf7mK",
        "colab_type": "text"
      },
      "source": [
        "## **Results**"
      ]
    },
    {
      "cell_type": "code",
      "metadata": {
        "id": "ws7AxCVVUyqB",
        "colab_type": "code",
        "colab": {}
      },
      "source": [
        "from PIL import Image\n",
        "import os\n",
        "import numpy as np\n",
        "import tensorflow as tf\n",
        "from preprocessing import blur_utils\n",
        "DIR0 = \"dataset/deblurred01\"\n",
        "DIR01 = \"dataset/x_motion_deblurred01\"\n",
        "\n",
        "\n",
        "# DIR = \"dataset/full_res/gauss_deblurred_9_8_no_reg\"\n",
        "DIR0 = \"/content/drive/My Drive/Colab Notebooks/ex3/full_res/gauss_deblurred_9_8_no_reg\"\n",
        "\n",
        "ORIG = \"/content/drive/My Drive/Colab Notebooks/ex3/full_res/gauss_blurred_9_8\"\n",
        "images_names = os.listdir(DIR)\n",
        "for name in images_names:\n",
        "    img = Image.open(os.path.join(DIR0, name))\n",
        "    display(img)\n",
        "    img = Image.open(os.path.join(DIR, name))\n",
        "    display(img)\n",
        "    orig = Image.open(os.path.join(ORIG, name))\n",
        "\n",
        "    display(orig)"
      ],
      "execution_count": null,
      "outputs": []
    }
  ]
}