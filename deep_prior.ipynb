{
  "nbformat": 4,
  "nbformat_minor": 0,
  "metadata": {
    "colab": {
      "name": "Untitled8.ipynb",
      "provenance": [],
      "include_colab_link": true
    },
    "kernelspec": {
      "name": "python3",
      "display_name": "Python 3"
    },
    "accelerator": "GPU"
  },
  "cells": [
    {
      "cell_type": "markdown",
      "metadata": {
        "id": "view-in-github",
        "colab_type": "text"
      },
      "source": [
        "<a href=\"https://colab.research.google.com/github/naomideutsch/Deep_Prior/blob/master/deep_prior.ipynb\" target=\"_parent\"><img src=\"https://colab.research.google.com/assets/colab-badge.svg\" alt=\"Open In Colab\"/></a>"
      ]
    },
    {
      "cell_type": "code",
      "metadata": {
        "id": "Pq8adogsks2K",
        "colab_type": "code",
        "colab": {
          "base_uri": "https://localhost:8080/",
          "height": 663
        },
        "outputId": "2cf1e8df-dca6-4dc1-a88c-95a452e3d507"
      },
      "source": [
        "pip install tensorflow-gpu==1.15"
      ],
      "execution_count": 2,
      "outputs": [
        {
          "output_type": "stream",
          "text": [
            "Requirement already satisfied: tensorflow-gpu==1.15 in /usr/local/lib/python3.6/dist-packages (1.15.0)\n",
            "Requirement already satisfied: tensorboard<1.16.0,>=1.15.0 in /usr/local/lib/python3.6/dist-packages (from tensorflow-gpu==1.15) (1.15.0)\n",
            "Requirement already satisfied: keras-applications>=1.0.8 in /usr/local/lib/python3.6/dist-packages (from tensorflow-gpu==1.15) (1.0.8)\n",
            "Processing /root/.cache/pip/wheels/5c/2e/7e/a1d4d4fcebe6c381f378ce7743a3ced3699feb89bcfbdadadd/gast-0.2.2-cp36-none-any.whl\n",
            "Requirement already satisfied: tensorflow-estimator==1.15.1 in /usr/local/lib/python3.6/dist-packages (from tensorflow-gpu==1.15) (1.15.1)\n",
            "Requirement already satisfied: wheel>=0.26 in /usr/local/lib/python3.6/dist-packages (from tensorflow-gpu==1.15) (0.34.2)\n",
            "Requirement already satisfied: keras-preprocessing>=1.0.5 in /usr/local/lib/python3.6/dist-packages (from tensorflow-gpu==1.15) (1.1.2)\n",
            "Requirement already satisfied: astor>=0.6.0 in /usr/local/lib/python3.6/dist-packages (from tensorflow-gpu==1.15) (0.8.1)\n",
            "Requirement already satisfied: numpy<2.0,>=1.16.0 in /usr/local/lib/python3.6/dist-packages (from tensorflow-gpu==1.15) (1.18.5)\n",
            "Requirement already satisfied: protobuf>=3.6.1 in /usr/local/lib/python3.6/dist-packages (from tensorflow-gpu==1.15) (3.10.0)\n",
            "Requirement already satisfied: google-pasta>=0.1.6 in /usr/local/lib/python3.6/dist-packages (from tensorflow-gpu==1.15) (0.2.0)\n",
            "Requirement already satisfied: termcolor>=1.1.0 in /usr/local/lib/python3.6/dist-packages (from tensorflow-gpu==1.15) (1.1.0)\n",
            "Requirement already satisfied: wrapt>=1.11.1 in /usr/local/lib/python3.6/dist-packages (from tensorflow-gpu==1.15) (1.12.1)\n",
            "Requirement already satisfied: six>=1.10.0 in /usr/local/lib/python3.6/dist-packages (from tensorflow-gpu==1.15) (1.12.0)\n",
            "Requirement already satisfied: grpcio>=1.8.6 in /usr/local/lib/python3.6/dist-packages (from tensorflow-gpu==1.15) (1.30.0)\n",
            "Requirement already satisfied: absl-py>=0.7.0 in /usr/local/lib/python3.6/dist-packages (from tensorflow-gpu==1.15) (0.9.0)\n",
            "Requirement already satisfied: opt-einsum>=2.3.2 in /usr/local/lib/python3.6/dist-packages (from tensorflow-gpu==1.15) (3.2.1)\n",
            "Requirement already satisfied: setuptools>=41.0.0 in /usr/local/lib/python3.6/dist-packages (from tensorboard<1.16.0,>=1.15.0->tensorflow-gpu==1.15) (47.3.1)\n",
            "Requirement already satisfied: werkzeug>=0.11.15 in /usr/local/lib/python3.6/dist-packages (from tensorboard<1.16.0,>=1.15.0->tensorflow-gpu==1.15) (1.0.1)\n",
            "Requirement already satisfied: markdown>=2.6.8 in /usr/local/lib/python3.6/dist-packages (from tensorboard<1.16.0,>=1.15.0->tensorflow-gpu==1.15) (3.2.2)\n",
            "Requirement already satisfied: h5py in /usr/local/lib/python3.6/dist-packages (from keras-applications>=1.0.8->tensorflow-gpu==1.15) (2.10.0)\n",
            "Requirement already satisfied: importlib-metadata; python_version < \"3.8\" in /usr/local/lib/python3.6/dist-packages (from markdown>=2.6.8->tensorboard<1.16.0,>=1.15.0->tensorflow-gpu==1.15) (1.6.1)\n",
            "Requirement already satisfied: zipp>=0.5 in /usr/local/lib/python3.6/dist-packages (from importlib-metadata; python_version < \"3.8\"->markdown>=2.6.8->tensorboard<1.16.0,>=1.15.0->tensorflow-gpu==1.15) (3.1.0)\n",
            "\u001b[31mERROR: tf-nightly-gpu 2.4.0.dev20200630 has requirement gast==0.3.3, but you'll have gast 0.2.2 which is incompatible.\u001b[0m\n",
            "\u001b[31mERROR: tensorflow 2.2.0 has requirement gast==0.3.3, but you'll have gast 0.2.2 which is incompatible.\u001b[0m\n",
            "\u001b[31mERROR: tensorflow 2.2.0 has requirement tensorboard<2.3.0,>=2.2.0, but you'll have tensorboard 1.15.0 which is incompatible.\u001b[0m\n",
            "\u001b[31mERROR: tensorflow 2.2.0 has requirement tensorflow-estimator<2.3.0,>=2.2.0, but you'll have tensorflow-estimator 1.15.1 which is incompatible.\u001b[0m\n",
            "\u001b[31mERROR: tensorflow-probability 0.10.0 has requirement gast>=0.3.2, but you'll have gast 0.2.2 which is incompatible.\u001b[0m\n",
            "Installing collected packages: gast\n",
            "  Found existing installation: gast 0.3.3\n",
            "    Uninstalling gast-0.3.3:\n",
            "      Successfully uninstalled gast-0.3.3\n",
            "Successfully installed gast-0.2.2\n"
          ],
          "name": "stdout"
        },
        {
          "output_type": "display_data",
          "data": {
            "application/vnd.colab-display-data+json": {
              "pip_warning": {
                "packages": [
                  "gast"
                ]
              }
            }
          },
          "metadata": {
            "tags": []
          }
        }
      ]
    },
    {
      "cell_type": "code",
      "metadata": {
        "id": "C5BpZX4ugQuj",
        "colab_type": "code",
        "colab": {
          "base_uri": "https://localhost:8080/",
          "height": 136
        },
        "outputId": "16e8fc69-fcba-44e8-e18f-cac1dfe6f612"
      },
      "source": [
        "!git clone https://github.com/naomideutsch/Deep_Prior\n"
      ],
      "execution_count": 2,
      "outputs": [
        {
          "output_type": "stream",
          "text": [
            "Cloning into 'Deep_Prior'...\n",
            "remote: Enumerating objects: 6, done.\u001b[K\n",
            "remote: Counting objects: 100% (6/6), done.\u001b[K\n",
            "remote: Compressing objects: 100% (6/6), done.\u001b[K\n",
            "remote: Total 562 (delta 2), reused 0 (delta 0), pack-reused 556\u001b[K\n",
            "Receiving objects: 100% (562/562), 30.37 MiB | 4.86 MiB/s, done.\n",
            "Resolving deltas: 100% (167/167), done.\n"
          ],
          "name": "stdout"
        }
      ]
    },
    {
      "cell_type": "code",
      "metadata": {
        "id": "VdllOJFsmnyr",
        "colab_type": "code",
        "colab": {
          "base_uri": "https://localhost:8080/",
          "height": 51
        },
        "outputId": "bb795ab1-a8ca-4fd5-b044-112e2e6d0527"
      },
      "source": [
        "cd Deep_Prior"
      ],
      "execution_count": 1,
      "outputs": [
        {
          "output_type": "stream",
          "text": [
            "[Errno 2] No such file or directory: 'Deep_Prior'\n",
            "/content\n"
          ],
          "name": "stdout"
        }
      ]
    },
    {
      "cell_type": "markdown",
      "metadata": {
        "id": "UhIDzbC4-ZD9",
        "colab_type": "text"
      },
      "source": [
        "Super-Resolution"
      ]
    },
    {
      "cell_type": "code",
      "metadata": {
        "id": "fuQF2WVhnILR",
        "colab_type": "code",
        "colab": {}
      },
      "source": [
        "\n",
        "!python super_resolution.py --lr-imgs-dir=\"dataset/lr_stylegan\" --hr-imgs-dir=\"dataset/hr_stylegan\" --latents-dir=\"dataset/latents_dir\" --hr-img-size 256 256"
      ],
      "execution_count": null,
      "outputs": []
    },
    {
      "cell_type": "code",
      "metadata": {
        "id": "3_YrhB3YMJ8r",
        "colab_type": "code",
        "colab": {}
      },
      "source": [
        "from PIL import Image\n",
        "import os\n",
        "import numpy as np\n",
        "import tensorflow as tf\n",
        "from preprocessing import blur_utils\n",
        "DIR = \"dataset/hr_stylegan\"\n",
        "ORIG = \"dataset/lr_stylegan\"\n",
        "\n",
        "images_names = os.listdir(DIR)\n",
        "for name in images_names:\n",
        "    img = Image.open(os.path.join(DIR, name))\n",
        "    display(img)\n",
        "    orig = Image.open(os.path.join(ORIG, name))\n",
        "    display(orig)"
      ],
      "execution_count": null,
      "outputs": []
    },
    {
      "cell_type": "markdown",
      "metadata": {
        "id": "cbGXO_en-ovR",
        "colab_type": "text"
      },
      "source": [
        "## [**StyleGan examples**]"
      ]
    },
    {
      "cell_type": "markdown",
      "metadata": {
        "id": "vefMAK7xMQct",
        "colab_type": "text"
      },
      "source": [
        "Preprocessing blurred images"
      ]
    },
    {
      "cell_type": "markdown",
      "metadata": {
        "id": "l8mrOn_wPUnf",
        "colab_type": "text"
      },
      "source": [
        "### *Gussian Kernal*"
      ]
    },
    {
      "cell_type": "markdown",
      "metadata": {
        "id": "UicVpfh-QNf4",
        "colab_type": "text"
      },
      "source": [
        "####**Blurring**\n"
      ]
    },
    {
      "cell_type": "markdown",
      "metadata": {
        "id": "CX1RbiWCSx_2",
        "colab_type": "text"
      },
      "source": [
        "Full resolution"
      ]
    },
    {
      "cell_type": "code",
      "metadata": {
        "id": "dyKSL59-rKVm",
        "colab_type": "code",
        "colab": {}
      },
      "source": [
        "!python preprocessing/blur_preprocessing.py --img-dir=\"dataset/full_resolution_stylegan\" --output-dir=\"/content/drive/My Drive/Colab Notebooks/ex3/gauss/9_8/full_res/blurred\" --kernel-size=9 --sigma=8 --kernel-type=\"gauss\""
      ],
      "execution_count": null,
      "outputs": []
    },
    {
      "cell_type": "markdown",
      "metadata": {
        "id": "jajuqO8IS0HF",
        "colab_type": "text"
      },
      "source": [
        "Low resulotion"
      ]
    },
    {
      "cell_type": "code",
      "metadata": {
        "id": "7A9IyCNhS7KB",
        "colab_type": "code",
        "colab": {}
      },
      "source": [
        "!python preprocessing/blur_preprocessing.py --img-dir=\"dataset/lr_stylegan\" --output-dir=\"/content/drive/My Drive/Colab Notebooks/ex3/gauss/3_2/low_res/blurred\" --kernel-size=3 --sigma=2 --kernel-type=\"gauss\""
      ],
      "execution_count": null,
      "outputs": []
    },
    {
      "cell_type": "markdown",
      "metadata": {
        "id": "qSk0dh0bab-Z",
        "colab_type": "text"
      },
      "source": [
        "####**Deblurring**"
      ]
    },
    {
      "cell_type": "markdown",
      "metadata": {
        "id": "7amA01xKRCoL",
        "colab_type": "text"
      },
      "source": [
        "2500 iterations + regularization"
      ]
    },
    {
      "cell_type": "code",
      "metadata": {
        "id": "jvvcjNvAQan3",
        "colab_type": "code",
        "colab": {}
      },
      "source": [
        "!python deblurring.py --input-size 1024 1024 --blurred-imgs-dir=\"/content/drive/My Drive/Colab Notebooks/ex3/gauss/9_8/full_res/blurred\" --deblurred-imgs-dir=\"/content/drive/My Drive/Colab Notebooks/ex3/gauss/9_8/full_res/deblurred_reg_2500\" --latents-dir=\"/content/drive/My Drive/Colab Notebooks/ex3/gauss/9_8/full_res/latents_dir_reg_2500\" --kernel-size=9 --sigma=8 --beta=0.1 --reg=\"grad\" --kernel-type=\"gauss\" --total-iterations=2500"
      ],
      "execution_count": null,
      "outputs": []
    },
    {
      "cell_type": "code",
      "metadata": {
        "id": "Qx1kkSHLVXv5",
        "colab_type": "code",
        "colab": {}
      },
      "source": [
        "!python deblurring.py --input-size 128 128 --blurred-imgs-dir=\"/content/drive/My Drive/Colab Notebooks/ex3/gauss/3_2/low_res/blurred\" --deblurred-imgs-dir=\"/content/drive/My Drive/Colab Notebooks/ex3/gauss/3_2/low_res/deblurred_reg_2500\" --latents-dir=\"/content/drive/My Drive/Colab Notebooks/ex3/gauss/3_2/low_res/latents_dir_reg_2500\" --kernel-size=3 --sigma=2 --beta=0.1 --reg=\"grad\" --kernel-type=\"gauss\" --total-iterations=2500"
      ],
      "execution_count": null,
      "outputs": []
    },
    {
      "cell_type": "markdown",
      "metadata": {
        "id": "cPmBu9oKRjBE",
        "colab_type": "text"
      },
      "source": [
        "1000 iterations + no regularization"
      ]
    },
    {
      "cell_type": "code",
      "metadata": {
        "id": "bEFZVIoZRM4U",
        "colab_type": "code",
        "colab": {}
      },
      "source": [
        "!python deblurring.py --input-size 1024 1024 --blurred-imgs-dir=\"/content/drive/My Drive/Colab Notebooks/ex3/gauss/9_8/full_res/blurred\" --deblurred-imgs-dir=\"/content/drive/My Drive/Colab Notebooks/ex3/gauss/9_8/full_res/deblurred_no_reg_1000\" --latents-dir=\"/content/drive/My Drive/Colab Notebooks/ex3/gauss/9_8/full_res/latents_dir_no_reg_1000\" --kernel-size=9 --sigma=8 --beta=0.0 --reg=\"grad\" --kernel-type=\"gauss\" --total-iterations=1000"
      ],
      "execution_count": null,
      "outputs": []
    },
    {
      "cell_type": "code",
      "metadata": {
        "id": "2aymAWtZTokQ",
        "colab_type": "code",
        "colab": {}
      },
      "source": [
        "!python deblurring.py --input-size 128 128 --blurred-imgs-dir=\"/content/drive/My Drive/Colab Notebooks/ex3/gauss/3_2/low_res/blurred\" --deblurred-imgs-dir=\"/content/drive/My Drive/Colab Notebooks/ex3/gauss/3_2/low_res/deblurred_no_reg_1000\" --latents-dir=\"/content/drive/My Drive/Colab Notebooks/ex3/gauss/3_2/low_res/latents_dir_no_reg_1000\" --kernel-size=3 --sigma=2 --beta=0.0 --reg=\"grad\" --kernel-type=\"gauss\" --total-iterations=1000"
      ],
      "execution_count": null,
      "outputs": []
    },
    {
      "cell_type": "markdown",
      "metadata": {
        "id": "Yr_aZJp-TlcQ",
        "colab_type": "text"
      },
      "source": [
        "1000 iterations + regularization"
      ]
    },
    {
      "cell_type": "code",
      "metadata": {
        "id": "ggb6h8BsRqGn",
        "colab_type": "code",
        "colab": {}
      },
      "source": [
        "!python deblurring.py --input-size 1024 1024 --blurred-imgs-dir=\"/content/drive/My Drive/Colab Notebooks/ex3/gauss/9_8/full_res/blurred\" --deblurred-imgs-dir=\"/content/drive/My Drive/Colab Notebooks/ex3/gauss/9_8/full_res/deblurred_reg_1000\" --latents-dir=\"/content/drive/My Drive/Colab Notebooks/ex3/gauss/9_8/full_res/latents_dir_reg_1000\" --kernel-size=9 --sigma=8 --beta=0.1 --reg=\"grad\" --kernel-type=\"gauss\" --total-iterations=1000"
      ],
      "execution_count": null,
      "outputs": []
    },
    {
      "cell_type": "code",
      "metadata": {
        "id": "qqpsLm91UKNV",
        "colab_type": "code",
        "colab": {}
      },
      "source": [
        "!python deblurring.py --input-size 128 128 --blurred-imgs-dir=\"/content/drive/My Drive/Colab Notebooks/ex3/gauss/3_2/low_res/blurred\" --deblurred-imgs-dir=\"/content/drive/My Drive/Colab Notebooks/ex3/gauss/3_2/low_res/deblurred_reg_1000\" --latents-dir=\"/content/drive/My Drive/Colab Notebooks/ex3/gauss/3_2/low_res/latents_dir_reg_1000\" --kernel-size=3 --sigma=2 --beta=0.1 --reg=\"grad\" --kernel-type=\"gauss\" --total-iterations=1000"
      ],
      "execution_count": null,
      "outputs": []
    },
    {
      "cell_type": "markdown",
      "metadata": {
        "id": "-QiXY04saUkO",
        "colab_type": "text"
      },
      "source": [
        "### *X Motion Kernal*"
      ]
    },
    {
      "cell_type": "markdown",
      "metadata": {
        "id": "uGaH5EoIa2vX",
        "colab_type": "text"
      },
      "source": [
        "####**Blurring**\n"
      ]
    },
    {
      "cell_type": "markdown",
      "metadata": {
        "colab_type": "text",
        "id": "6tM5-kFta9vA"
      },
      "source": [
        "Full resolution"
      ]
    },
    {
      "cell_type": "code",
      "metadata": {
        "colab_type": "code",
        "id": "ZLIgQHLHbFN4",
        "colab": {}
      },
      "source": [
        "!python preprocessing/blur_preprocessing.py --img-dir=\"dataset/full_resolution_stylegan\" --output-dir=\"/content/drive/My Drive/Colab Notebooks/ex3/motion/25/full_res/blurred\" --kernel-size=25 --kernel-type=\"x_motion\""
      ],
      "execution_count": null,
      "outputs": []
    },
    {
      "cell_type": "markdown",
      "metadata": {
        "colab_type": "text",
        "id": "eSCjspczbZZD"
      },
      "source": [
        "Low resulotion"
      ]
    },
    {
      "cell_type": "code",
      "metadata": {
        "colab_type": "code",
        "id": "G4LEjA_HbbA0",
        "colab": {}
      },
      "source": [
        "!python preprocessing/blur_preprocessing.py --img-dir=\"dataset/lr_stylegan\" --output-dir=\"/content/drive/My Drive/Colab Notebooks/ex3/motion/5/low_res/blurred\" --kernel-size=5 --kernel-type=\"x_motion\""
      ],
      "execution_count": null,
      "outputs": []
    },
    {
      "cell_type": "markdown",
      "metadata": {
        "colab_type": "text",
        "id": "0hsH3BU-byHs"
      },
      "source": [
        "####**Deblurring**"
      ]
    },
    {
      "cell_type": "markdown",
      "metadata": {
        "colab_type": "text",
        "id": "4vCRiouUbyHt"
      },
      "source": [
        "2500 iterations + regularization"
      ]
    },
    {
      "cell_type": "code",
      "metadata": {
        "colab_type": "code",
        "id": "Oe5NfvgkbyHt",
        "colab": {}
      },
      "source": [
        "!python deblurring.py --input-size 1024 1024 --blurred-imgs-dir=\"/content/drive/My Drive/Colab Notebooks/ex3/motion/25/full_res/blurred\" --deblurred-imgs-dir=\"/content/drive/My Drive/Colab Notebooks/ex3/motion/25/full_res/deblurred_reg_2500\" --latents-dir=\"/content/drive/My Drive/Colab Notebooks/ex3/motion/25/full_res/latents_dir_reg_2500\" --kernel-size=25 --beta=0.1 --reg=\"grad\" --kernel-type=\"x_motion\" --total-iterations=2500"
      ],
      "execution_count": null,
      "outputs": []
    },
    {
      "cell_type": "code",
      "metadata": {
        "colab_type": "code",
        "id": "UQvWIltObyHw",
        "colab": {}
      },
      "source": [
        "!python deblurring.py --input-size 128 128 --blurred-imgs-dir=\"/content/drive/My Drive/Colab Notebooks/ex3/motion/5/low_res/blurred\" --deblurred-imgs-dir=\"/content/drive/My Drive/Colab Notebooks/ex3/motion/5/low_res/deblurred_reg_2500\" --latents-dir=\"/content/drive/My Drive/Colab Notebooks/ex3/motion/5/low_res/latents_dir_reg_2500\" --kernel-size=5 --beta=0.1 --reg=\"grad\" --kernel-type=\"x_motion\" --total-iterations=2500"
      ],
      "execution_count": null,
      "outputs": []
    },
    {
      "cell_type": "markdown",
      "metadata": {
        "colab_type": "text",
        "id": "iY49wEvubyHy"
      },
      "source": [
        "1000 iterations + no regularization"
      ]
    },
    {
      "cell_type": "code",
      "metadata": {
        "colab_type": "code",
        "id": "sYR4nTb_byHy",
        "colab": {}
      },
      "source": [
        "!python deblurring.py --input-size 1024 1024 --blurred-imgs-dir=\"/content/drive/My Drive/Colab Notebooks/ex3/motion/25/full_res/blurred\" --deblurred-imgs-dir=\"/content/drive/My Drive/Colab Notebooks/ex3/motion/25/full_res/deblurred_no_reg_1000\" --latents-dir=\"/content/drive/My Drive/Colab Notebooks/ex3/motion/25/full_res/latents_dir_no_reg_1000\" --kernel-size=25 --beta=0.0 --reg=\"grad\" --kernel-type=\"x_motion\" --total-iterations=1000"
      ],
      "execution_count": null,
      "outputs": []
    },
    {
      "cell_type": "code",
      "metadata": {
        "colab_type": "code",
        "id": "mLmiotOFbyHz",
        "colab": {}
      },
      "source": [
        "!python deblurring.py --input-size 128 128 --blurred-imgs-dir=\"/content/drive/My Drive/Colab Notebooks/ex3/motion/5/low_res/blurred\" --deblurred-imgs-dir=\"/content/drive/My Drive/Colab Notebooks/ex3/motion/5/low_res/deblurred_no_reg_1000\" --latents-dir=\"/content/drive/My Drive/Colab Notebooks/ex3/motion/5/low_res/latents_dir_no_reg_1000\" --kernel-size=5 --beta=0.0 --reg=\"grad\" --kernel-type=\"x_motion\" --total-iterations=1000"
      ],
      "execution_count": null,
      "outputs": []
    },
    {
      "cell_type": "markdown",
      "metadata": {
        "colab_type": "text",
        "id": "C4aSIMPObyH1"
      },
      "source": [
        "1000 iterations + regularization"
      ]
    },
    {
      "cell_type": "code",
      "metadata": {
        "colab_type": "code",
        "id": "H_CA5Ve9byH1",
        "colab": {}
      },
      "source": [
        "!python deblurring.py --input-size 1024 1024 --blurred-imgs-dir=\"/content/drive/My Drive/Colab Notebooks/ex3/motion/25/full_res/blurred\" --deblurred-imgs-dir=\"/content/drive/My Drive/Colab Notebooks/ex3/motion/25/full_res/deblurred_reg_1000\" --latents-dir=\"/content/drive/My Drive/Colab Notebooks/ex3/motion/25/full_res/latents_dir_reg_1000\" --kernel-size=25 --beta=0.1 --reg=\"grad\" --kernel-type=\"x_motion\" --total-iterations=1000"
      ],
      "execution_count": null,
      "outputs": []
    },
    {
      "cell_type": "code",
      "metadata": {
        "colab_type": "code",
        "id": "nQ-z1QL6byH3",
        "colab": {}
      },
      "source": [
        "!python deblurring.py --input-size 128 128 --blurred-imgs-dir=\"/content/drive/My Drive/Colab Notebooks/ex3/motion/5/low_res/blurred\" --deblurred-imgs-dir=\"/content/drive/My Drive/Colab Notebooks/ex3/motion/5/low_res/deblurred_reg_1000\" --latents-dir=\"/content/drive/My Drive/Colab Notebooks/ex3/motion/5/low_res/latents_dir_reg_1000\" --kernel-size=5 --beta=0.1 --reg=\"grad\" --kernel-type=\"x_motion\" --total-iterations=1000"
      ],
      "execution_count": null,
      "outputs": []
    },
    {
      "cell_type": "markdown",
      "metadata": {
        "colab_type": "text",
        "id": "tp7fMPoKd20X"
      },
      "source": [
        "### *Disk Kernal*"
      ]
    },
    {
      "cell_type": "markdown",
      "metadata": {
        "colab_type": "text",
        "id": "5-6wEv-fd20c"
      },
      "source": [
        "####**Blurring**\n"
      ]
    },
    {
      "cell_type": "markdown",
      "metadata": {
        "colab_type": "text",
        "id": "3wIJ6IvRd20c"
      },
      "source": [
        "Full resolution"
      ]
    },
    {
      "cell_type": "code",
      "metadata": {
        "colab_type": "code",
        "id": "UUiRqfCcd20d",
        "colab": {}
      },
      "source": [
        "!python preprocessing/blur_preprocessing.py --img-dir=\"dataset/full_resolution_stylegan\" --output-dir=\"/content/drive/My Drive/Colab Notebooks/ex3/disk/11/full_res/blurred\" --kernel-size=11 --kernel-type=\"disk\""
      ],
      "execution_count": null,
      "outputs": []
    },
    {
      "cell_type": "markdown",
      "metadata": {
        "colab_type": "text",
        "id": "ImxWpHTFd20i"
      },
      "source": [
        "####**Deblurring**"
      ]
    },
    {
      "cell_type": "markdown",
      "metadata": {
        "colab_type": "text",
        "id": "MoT_qh1Fd20i"
      },
      "source": [
        "2500 iterations + regularization"
      ]
    },
    {
      "cell_type": "code",
      "metadata": {
        "colab_type": "code",
        "id": "shNaGQGAd20j",
        "colab": {}
      },
      "source": [
        "!python deblurring.py --input-size 1024 1024 --blurred-imgs-dir=\"/content/drive/My Drive/Colab Notebooks/ex3/disk/11/full_res/blurred\" --deblurred-imgs-dir=\"/content/drive/My Drive/Colab Notebooks/ex3/disk/11/full_res/deblurred_reg_2500\" --latents-dir=\"/content/drive/My Drive/Colab Notebooks/ex3/disk/11/full_res/latents_dir_reg_2500\" --kernel-size=11 --beta=0.1 --reg=\"grad\" --kernel-type=\"disk\" --total-iterations=2500"
      ],
      "execution_count": null,
      "outputs": []
    },
    {
      "cell_type": "markdown",
      "metadata": {
        "colab_type": "text",
        "id": "wavZrPuieeCM"
      },
      "source": [
        "### *Median Kernal*"
      ]
    },
    {
      "cell_type": "markdown",
      "metadata": {
        "colab_type": "text",
        "id": "jTkRIGlUeeCQ"
      },
      "source": [
        "####**Blurring**\n"
      ]
    },
    {
      "cell_type": "markdown",
      "metadata": {
        "colab_type": "text",
        "id": "Tnby8Hm3eeCQ"
      },
      "source": [
        "Full resolution"
      ]
    },
    {
      "cell_type": "code",
      "metadata": {
        "colab_type": "code",
        "id": "lR2DUmYAeeCR",
        "colab": {}
      },
      "source": [
        "!python preprocessing/blur_preprocessing.py --img-dir=\"dataset/full_resolution_stylegan\" --output-dir=\"/content/drive/My Drive/Colab Notebooks/ex3/median/9/full_res/blurred\" --kernel-size=9 --kernel-type=\"median\""
      ],
      "execution_count": null,
      "outputs": []
    },
    {
      "cell_type": "markdown",
      "metadata": {
        "colab_type": "text",
        "id": "A9OTy4FneeCU"
      },
      "source": [
        "####**Deblurring**"
      ]
    },
    {
      "cell_type": "markdown",
      "metadata": {
        "colab_type": "text",
        "id": "Z4Ufrm6heeCU"
      },
      "source": [
        "2500 iterations + regularization"
      ]
    },
    {
      "cell_type": "code",
      "metadata": {
        "colab_type": "code",
        "id": "LRVq5d6WeeCV",
        "colab": {}
      },
      "source": [
        "!python deblurring.py --input-size 1024 1024 --blurred-imgs-dir=\"/content/drive/My Drive/Colab Notebooks/ex3/median/9/full_res/blurred\" --deblurred-imgs-dir=\"/content/drive/My Drive/Colab Notebooks/ex3/median/9/full_res/deblurred_reg_2500\" --latents-dir=\"/content/drive/My Drive/Colab Notebooks/ex3/median/9/full_res/latents_dir_reg_2500\" --kernel-size=9 --reg=\"grad\" --kernel-type=\"median\" --total-iterations=2500"
      ],
      "execution_count": null,
      "outputs": []
    },
    {
      "cell_type": "markdown",
      "metadata": {
        "colab_type": "text",
        "id": "WOJiF7yBfAZ7"
      },
      "source": [
        "### *Bilateral Kernal*"
      ]
    },
    {
      "cell_type": "markdown",
      "metadata": {
        "colab_type": "text",
        "id": "a4bOxo5ifAaA"
      },
      "source": [
        "####**Blurring**\n"
      ]
    },
    {
      "cell_type": "markdown",
      "metadata": {
        "colab_type": "text",
        "id": "yefUKFZ6fAaA"
      },
      "source": [
        "Full resolution"
      ]
    },
    {
      "cell_type": "code",
      "metadata": {
        "colab_type": "code",
        "id": "pRv2As2hfAaB",
        "colab": {}
      },
      "source": [
        "!python preprocessing/blur_preprocessing.py --img-dir=\"dataset/full_resolution_stylegan\" --output-dir=\"/content/drive/My Drive/Colab Notebooks/ex3/bi/9/full_res/blurred\" --kernel-size=9 --sigma=75 --kernel-type=\"bi\""
      ],
      "execution_count": null,
      "outputs": []
    },
    {
      "cell_type": "markdown",
      "metadata": {
        "colab_type": "text",
        "id": "0LtCFokUfAaE"
      },
      "source": [
        "####**Deblurring**"
      ]
    },
    {
      "cell_type": "markdown",
      "metadata": {
        "colab_type": "text",
        "id": "YkONHVF7fAaE"
      },
      "source": [
        "2500 iterations + regularization"
      ]
    },
    {
      "cell_type": "code",
      "metadata": {
        "colab_type": "code",
        "id": "GNQzZboWfAaF",
        "colab": {}
      },
      "source": [
        "!python deblurring.py --input-size 1024 1024 --blurred-imgs-dir=\"/content/drive/My Drive/Colab Notebooks/ex3/bi/9/full_res/blurred\" --deblurred-imgs-dir=\"/content/drive/My Drive/Colab Notebooks/ex3/bi/9/full_res/deblurred_reg_2500\" --latents-dir=\"/content/drive/My Drive/Colab Notebooks/ex3/bi/9/full_res/latents_dir_reg_2500\" --kernel-size=9 --sigma=75 --reg=\"grad\" --kernel-type=\"bi\" --total-iterations=2500"
      ],
      "execution_count": null,
      "outputs": []
    },
    {
      "cell_type": "markdown",
      "metadata": {
        "id": "bTHfZzrrf7mK",
        "colab_type": "text"
      },
      "source": [
        "## **Results**"
      ]
    },
    {
      "cell_type": "code",
      "metadata": {
        "id": "ws7AxCVVUyqB",
        "colab_type": "code",
        "colab": {}
      },
      "source": [
        "from PIL import Image\n",
        "import os\n",
        "import numpy as np\n",
        "import tensorflow as tf\n",
        "from preprocessing import blur_utils\n",
        "DIR0 = \"dataset/deblurred01\"\n",
        "DIR01 = \"dataset/x_motion_deblurred01\"\n",
        "\n",
        "\n",
        "# DIR = \"dataset/full_res/gauss_deblurred_9_8_no_reg\"\n",
        "DIR0 = \"/content/drive/My Drive/Colab Notebooks/ex3/full_res/gauss_deblurred_9_8_no_reg\"\n",
        "\n",
        "ORIG = \"/content/drive/My Drive/Colab Notebooks/ex3/full_res/gauss_blurred_9_8\"\n",
        "images_names = os.listdir(DIR)\n",
        "for name in images_names:\n",
        "    img = Image.open(os.path.join(DIR0, name))\n",
        "    display(img)\n",
        "    img = Image.open(os.path.join(DIR, name))\n",
        "    display(img)\n",
        "    orig = Image.open(os.path.join(ORIG, name))\n",
        "\n",
        "    display(orig)"
      ],
      "execution_count": null,
      "outputs": []
    }
  ]
}