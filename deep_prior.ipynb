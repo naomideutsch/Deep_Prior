{
  "nbformat": 4,
  "nbformat_minor": 0,
  "metadata": {
    "colab": {
      "name": "Untitled8.ipynb",
      "provenance": [],
      "include_colab_link": true
    },
    "kernelspec": {
      "name": "python3",
      "display_name": "Python 3"
    },
    "accelerator": "GPU"
  },
  "cells": [
    {
      "cell_type": "markdown",
      "metadata": {
        "id": "view-in-github",
        "colab_type": "text"
      },
      "source": [
        "<a href=\"https://colab.research.google.com/github/naomideutsch/Deep_Prior/blob/master/deep_prior.ipynb\" target=\"_parent\"><img src=\"https://colab.research.google.com/assets/colab-badge.svg\" alt=\"Open In Colab\"/></a>"
      ]
    },
    {
      "cell_type": "code",
      "metadata": {
        "id": "Pq8adogsks2K",
        "colab_type": "code",
        "colab": {
          "base_uri": "https://localhost:8080/",
          "height": 80
        },
        "outputId": "d935bbc1-bc5b-4a55-e762-2549e7f4a013"
      },
      "source": [
        "pip install tensorflow-gpu==1.15"
      ],
      "execution_count": null,
      "outputs": [
        {
          "output_type": "stream",
          "text": [
            "Collecting tensorflow-gpu==1.15\n",
            "\u001b[?25l  Downloading https://files.pythonhosted.org/packages/a5/ad/933140e74973fb917a194ab814785e7c23680ca5dee6d663a509fe9579b6/tensorflow_gpu-1.15.0-cp36-cp36m-manylinux2010_x86_64.whl (411.5MB)\n",
            "\u001b[K     |██████████████████████▌         | 288.7MB 1.5MB/s eta 0:01:21"
          ],
          "name": "stdout"
        }
      ]
    },
    {
      "cell_type": "code",
      "metadata": {
        "id": "Q-n4rszwiNvZ",
        "colab_type": "code",
        "colab": {}
      },
      "source": [
        "!git clone https://github.com/naomideutsch/Deep_Prior"
      ],
      "execution_count": null,
      "outputs": []
    },
    {
      "cell_type": "code",
      "metadata": {
        "id": "VdllOJFsmnyr",
        "colab_type": "code",
        "colab": {
          "base_uri": "https://localhost:8080/",
          "height": 34
        },
        "outputId": "a966b3d4-f1d2-4088-e155-6afa3c85c0b8"
      },
      "source": [
        "cd Deep_Prior"
      ],
      "execution_count": 3,
      "outputs": [
        {
          "output_type": "stream",
          "text": [
            "/content/Deep_Prior\n"
          ],
          "name": "stdout"
        }
      ]
    },
    {
      "cell_type": "markdown",
      "metadata": {
        "id": "UhIDzbC4-ZD9",
        "colab_type": "text"
      },
      "source": [
        "Super-Resolution"
      ]
    },
    {
      "cell_type": "code",
      "metadata": {
        "id": "fuQF2WVhnILR",
        "colab_type": "code",
        "colab": {}
      },
      "source": [
        "\n",
        "!python super_resolution.py --lr-imgs-dir=\"dataset/lr_stylegan\" --hr-imgs-dir=\"dataset/hr_stylegan\" --latents-dir=\"dataset/latents_dir\" --hr-img-size 256 256"
      ],
      "execution_count": null,
      "outputs": []
    },
    {
      "cell_type": "code",
      "metadata": {
        "id": "3_YrhB3YMJ8r",
        "colab_type": "code",
        "colab": {}
      },
      "source": [
        "from PIL import Image\n",
        "import os\n",
        "import numpy as np\n",
        "import tensorflow as tf\n",
        "from preprocessing import blur_utils\n",
        "DIR = \"dataset/hr_stylegan\"\n",
        "ORIG = \"dataset/lr_stylegan\"\n",
        "\n",
        "images_names = os.listdir(DIR)\n",
        "for name in images_names:\n",
        "    img = Image.open(os.path.join(DIR, name))\n",
        "    display(img)\n",
        "    orig = Image.open(os.path.join(ORIG, name))\n",
        "    display(orig)"
      ],
      "execution_count": null,
      "outputs": []
    },
    {
      "cell_type": "markdown",
      "metadata": {
        "id": "cbGXO_en-ovR",
        "colab_type": "text"
      },
      "source": [
        "## [**StyleGan examples**]"
      ]
    },
    {
      "cell_type": "markdown",
      "metadata": {
        "id": "vefMAK7xMQct",
        "colab_type": "text"
      },
      "source": [
        "Preprocessing blurred images"
      ]
    },
    {
      "cell_type": "markdown",
      "metadata": {
        "id": "l8mrOn_wPUnf",
        "colab_type": "text"
      },
      "source": [
        "### *Gussian Kernal*"
      ]
    },
    {
      "cell_type": "markdown",
      "metadata": {
        "id": "UicVpfh-QNf4",
        "colab_type": "text"
      },
      "source": [
        "####**Blurring**\n"
      ]
    },
    {
      "cell_type": "markdown",
      "metadata": {
        "id": "CX1RbiWCSx_2",
        "colab_type": "text"
      },
      "source": [
        "Full resolution"
      ]
    },
    {
      "cell_type": "code",
      "metadata": {
        "id": "dyKSL59-rKVm",
        "colab_type": "code",
        "colab": {
          "base_uri": "https://localhost:8080/",
          "height": 938
        },
        "outputId": "7a428201-7b28-40cf-b1d4-447c0b2eb2a1"
      },
      "source": [
        "!python preprocessing/blur_preprocessing.py --img-dir=\"dataset/full_resolution_stylegan\" --output-dir=\"/content/drive/My Drive/Colab Notebooks/ex3/gauss/9_8/full_res/blurred\" --kernel-size=9 --sigma=8 --kernel-type=\"gauss\""
      ],
      "execution_count": 7,
      "outputs": [
        {
          "output_type": "stream",
          "text": [
            "2020-07-01 08:40:44.797274: I tensorflow/stream_executor/platform/default/dso_loader.cc:48] Successfully opened dynamic library libcudart.so.10.1\n",
            "2020-07-01 08:40:46.232380: I tensorflow/stream_executor/platform/default/dso_loader.cc:48] Successfully opened dynamic library libcuda.so.1\n",
            "2020-07-01 08:40:46.266814: I tensorflow/stream_executor/cuda/cuda_gpu_executor.cc:982] successful NUMA node read from SysFS had negative value (-1), but there must be at least one NUMA node, so returning NUMA node zero\n",
            "2020-07-01 08:40:46.267378: I tensorflow/core/common_runtime/gpu/gpu_device.cc:1716] Found device 0 with properties: \n",
            "pciBusID: 0000:00:04.0 name: Tesla T4 computeCapability: 7.5\n",
            "coreClock: 1.59GHz coreCount: 40 deviceMemorySize: 14.73GiB deviceMemoryBandwidth: 298.08GiB/s\n",
            "2020-07-01 08:40:46.267434: I tensorflow/stream_executor/platform/default/dso_loader.cc:48] Successfully opened dynamic library libcudart.so.10.1\n",
            "2020-07-01 08:40:46.269142: I tensorflow/stream_executor/platform/default/dso_loader.cc:48] Successfully opened dynamic library libcublas.so.10\n",
            "2020-07-01 08:40:46.270733: I tensorflow/stream_executor/platform/default/dso_loader.cc:48] Successfully opened dynamic library libcufft.so.10\n",
            "2020-07-01 08:40:46.271121: I tensorflow/stream_executor/platform/default/dso_loader.cc:48] Successfully opened dynamic library libcurand.so.10\n",
            "2020-07-01 08:40:46.272989: I tensorflow/stream_executor/platform/default/dso_loader.cc:48] Successfully opened dynamic library libcusolver.so.10\n",
            "2020-07-01 08:40:46.274107: I tensorflow/stream_executor/platform/default/dso_loader.cc:48] Successfully opened dynamic library libcusparse.so.10\n",
            "2020-07-01 08:40:46.277920: I tensorflow/stream_executor/platform/default/dso_loader.cc:48] Successfully opened dynamic library libcudnn.so.7\n",
            "2020-07-01 08:40:46.278044: I tensorflow/stream_executor/cuda/cuda_gpu_executor.cc:982] successful NUMA node read from SysFS had negative value (-1), but there must be at least one NUMA node, so returning NUMA node zero\n",
            "2020-07-01 08:40:46.278668: I tensorflow/stream_executor/cuda/cuda_gpu_executor.cc:982] successful NUMA node read from SysFS had negative value (-1), but there must be at least one NUMA node, so returning NUMA node zero\n",
            "2020-07-01 08:40:46.279239: I tensorflow/core/common_runtime/gpu/gpu_device.cc:1858] Adding visible gpu devices: 0\n",
            "2020-07-01 08:40:46.279757: I tensorflow/core/platform/cpu_feature_guard.cc:142] This TensorFlow binary is optimized with oneAPI Deep Neural Network Library (oneDNN)to use the following CPU instructions in performance-critical operations:  AVX2 AVX512F FMA\n",
            "To enable them in other operations, rebuild TensorFlow with the appropriate compiler flags.\n",
            "2020-07-01 08:40:46.285075: I tensorflow/core/platform/profile_utils/cpu_utils.cc:104] CPU Frequency: 2000129999 Hz\n",
            "2020-07-01 08:40:46.285256: I tensorflow/compiler/xla/service/service.cc:168] XLA service 0x1aa2a00 initialized for platform Host (this does not guarantee that XLA will be used). Devices:\n",
            "2020-07-01 08:40:46.285284: I tensorflow/compiler/xla/service/service.cc:176]   StreamExecutor device (0): Host, Default Version\n",
            "2020-07-01 08:40:46.394854: I tensorflow/stream_executor/cuda/cuda_gpu_executor.cc:982] successful NUMA node read from SysFS had negative value (-1), but there must be at least one NUMA node, so returning NUMA node zero\n",
            "2020-07-01 08:40:46.395533: I tensorflow/compiler/xla/service/service.cc:168] XLA service 0x1aa2bc0 initialized for platform CUDA (this does not guarantee that XLA will be used). Devices:\n",
            "2020-07-01 08:40:46.395564: I tensorflow/compiler/xla/service/service.cc:176]   StreamExecutor device (0): Tesla T4, Compute Capability 7.5\n",
            "2020-07-01 08:40:46.395770: I tensorflow/stream_executor/cuda/cuda_gpu_executor.cc:982] successful NUMA node read from SysFS had negative value (-1), but there must be at least one NUMA node, so returning NUMA node zero\n",
            "2020-07-01 08:40:46.396318: I tensorflow/core/common_runtime/gpu/gpu_device.cc:1716] Found device 0 with properties: \n",
            "pciBusID: 0000:00:04.0 name: Tesla T4 computeCapability: 7.5\n",
            "coreClock: 1.59GHz coreCount: 40 deviceMemorySize: 14.73GiB deviceMemoryBandwidth: 298.08GiB/s\n",
            "2020-07-01 08:40:46.396361: I tensorflow/stream_executor/platform/default/dso_loader.cc:48] Successfully opened dynamic library libcudart.so.10.1\n",
            "2020-07-01 08:40:46.396422: I tensorflow/stream_executor/platform/default/dso_loader.cc:48] Successfully opened dynamic library libcublas.so.10\n",
            "2020-07-01 08:40:46.396456: I tensorflow/stream_executor/platform/default/dso_loader.cc:48] Successfully opened dynamic library libcufft.so.10\n",
            "2020-07-01 08:40:46.396490: I tensorflow/stream_executor/platform/default/dso_loader.cc:48] Successfully opened dynamic library libcurand.so.10\n",
            "2020-07-01 08:40:46.396511: I tensorflow/stream_executor/platform/default/dso_loader.cc:48] Successfully opened dynamic library libcusolver.so.10\n",
            "2020-07-01 08:40:46.396532: I tensorflow/stream_executor/platform/default/dso_loader.cc:48] Successfully opened dynamic library libcusparse.so.10\n",
            "2020-07-01 08:40:46.396553: I tensorflow/stream_executor/platform/default/dso_loader.cc:48] Successfully opened dynamic library libcudnn.so.7\n",
            "2020-07-01 08:40:46.396629: I tensorflow/stream_executor/cuda/cuda_gpu_executor.cc:982] successful NUMA node read from SysFS had negative value (-1), but there must be at least one NUMA node, so returning NUMA node zero\n",
            "2020-07-01 08:40:46.397192: I tensorflow/stream_executor/cuda/cuda_gpu_executor.cc:982] successful NUMA node read from SysFS had negative value (-1), but there must be at least one NUMA node, so returning NUMA node zero\n",
            "2020-07-01 08:40:46.397683: I tensorflow/core/common_runtime/gpu/gpu_device.cc:1858] Adding visible gpu devices: 0\n",
            "2020-07-01 08:40:46.397733: I tensorflow/stream_executor/platform/default/dso_loader.cc:48] Successfully opened dynamic library libcudart.so.10.1\n",
            "2020-07-01 08:40:47.157558: I tensorflow/core/common_runtime/gpu/gpu_device.cc:1257] Device interconnect StreamExecutor with strength 1 edge matrix:\n",
            "2020-07-01 08:40:47.157620: I tensorflow/core/common_runtime/gpu/gpu_device.cc:1263]      0 \n",
            "2020-07-01 08:40:47.157634: I tensorflow/core/common_runtime/gpu/gpu_device.cc:1276] 0:   N \n",
            "2020-07-01 08:40:47.157842: I tensorflow/stream_executor/cuda/cuda_gpu_executor.cc:982] successful NUMA node read from SysFS had negative value (-1), but there must be at least one NUMA node, so returning NUMA node zero\n",
            "2020-07-01 08:40:47.158538: I tensorflow/stream_executor/cuda/cuda_gpu_executor.cc:982] successful NUMA node read from SysFS had negative value (-1), but there must be at least one NUMA node, so returning NUMA node zero\n",
            "2020-07-01 08:40:47.159048: W tensorflow/core/common_runtime/gpu/gpu_bfc_allocator.cc:39] Overriding allow_growth setting because the TF_FORCE_GPU_ALLOW_GROWTH environment variable is set. Original config value was 0.\n",
            "2020-07-01 08:40:47.159090: I tensorflow/core/common_runtime/gpu/gpu_device.cc:1402] Created TensorFlow device (/job:localhost/replica:0/task:0/device:GPU:0 with 13934 MB memory) -> physical GPU (device: 0, name: Tesla T4, pci bus id: 0000:00:04.0, compute capability: 7.5)\n",
            "2020-07-01 08:40:47.164992: I tensorflow/stream_executor/platform/default/dso_loader.cc:48] Successfully opened dynamic library libcublas.so.10\n",
            "Traceback (most recent call last):\n",
            "  File \"preprocessing/blur_preprocessing.py\", line 30, in <module>\n",
            "    blur_preprocessing(args)\n",
            "  File \"preprocessing/blur_preprocessing.py\", line 16, in blur_preprocessing\n",
            "    blurred = Image.fromarray(np.uint8(tf.Session().run(blr_image)))\n",
            "AttributeError: module 'tensorflow' has no attribute 'Session'\n"
          ],
          "name": "stdout"
        }
      ]
    },
    {
      "cell_type": "markdown",
      "metadata": {
        "id": "jajuqO8IS0HF",
        "colab_type": "text"
      },
      "source": [
        "Low resulotion"
      ]
    },
    {
      "cell_type": "code",
      "metadata": {
        "id": "7A9IyCNhS7KB",
        "colab_type": "code",
        "colab": {}
      },
      "source": [
        "!python preprocessing/blur_preprocessing.py --img-dir=\"dataset/lr_stylegan\" --output-dir=\"/content/drive/My Drive/Colab Notebooks/ex3/gauss/3_2/low_res/blurred\" --kernel-size=3 --sigma=2 --kernel-type=\"gauss\""
      ],
      "execution_count": null,
      "outputs": []
    },
    {
      "cell_type": "markdown",
      "metadata": {
        "id": "qSk0dh0bab-Z",
        "colab_type": "text"
      },
      "source": [
        "####**Deblurring**"
      ]
    },
    {
      "cell_type": "markdown",
      "metadata": {
        "id": "7amA01xKRCoL",
        "colab_type": "text"
      },
      "source": [
        "2500 iterations + regularization"
      ]
    },
    {
      "cell_type": "code",
      "metadata": {
        "id": "jvvcjNvAQan3",
        "colab_type": "code",
        "colab": {}
      },
      "source": [
        "!python deblurring.py --input-size 1024 1024 --blurred-imgs-dir=\"/content/drive/My Drive/Colab Notebooks/ex3/gauss/9_8/full_res/blurred\" --deblurred-imgs-dir=\"/content/drive/My Drive/Colab Notebooks/ex3/gauss/9_8/full_res/deblurred_reg_2500\" --latents-dir=\"/content/drive/My Drive/Colab Notebooks/ex3/gauss/9_8/full_res/latents_dir_reg_2500\" --kernel-size=9 --sigma=8 --beta=0.1 --reg=\"grad\" --kernel-type=\"gauss\" --total-iterations=2500"
      ],
      "execution_count": null,
      "outputs": []
    },
    {
      "cell_type": "code",
      "metadata": {
        "id": "Qx1kkSHLVXv5",
        "colab_type": "code",
        "colab": {}
      },
      "source": [
        "!python deblurring.py --input-size 128 128 --blurred-imgs-dir=\"/content/drive/My Drive/Colab Notebooks/ex3/gauss/3_2/low_res/blurred\" --deblurred-imgs-dir=\"/content/drive/My Drive/Colab Notebooks/ex3/gauss/3_2/low_res/deblurred_reg_2500\" --latents-dir=\"/content/drive/My Drive/Colab Notebooks/ex3/gauss/3_2/low_res/latents_dir_reg_2500\" --kernel-size=3 --sigma=2 --beta=0.1 --reg=\"grad\" --kernel-type=\"gauss\" --total-iterations=2500"
      ],
      "execution_count": null,
      "outputs": []
    },
    {
      "cell_type": "markdown",
      "metadata": {
        "id": "cPmBu9oKRjBE",
        "colab_type": "text"
      },
      "source": [
        "1000 iterations + no regularization"
      ]
    },
    {
      "cell_type": "code",
      "metadata": {
        "id": "bEFZVIoZRM4U",
        "colab_type": "code",
        "colab": {}
      },
      "source": [
        "!python deblurring.py --input-size 1024 1024 --blurred-imgs-dir=\"/content/drive/My Drive/Colab Notebooks/ex3/gauss/9_8/full_res/blurred\" --deblurred-imgs-dir=\"/content/drive/My Drive/Colab Notebooks/ex3/gauss/9_8/full_res/deblurred_no_reg_1000\" --latents-dir=\"/content/drive/My Drive/Colab Notebooks/ex3/gauss/9_8/full_res/latents_dir_no_reg_1000\" --kernel-size=9 --sigma=8 --beta=0.0 --reg=\"grad\" --kernel-type=\"gauss\" --total-iterations=1000"
      ],
      "execution_count": null,
      "outputs": []
    },
    {
      "cell_type": "code",
      "metadata": {
        "id": "2aymAWtZTokQ",
        "colab_type": "code",
        "colab": {}
      },
      "source": [
        "!python deblurring.py --input-size 128 128 --blurred-imgs-dir=\"/content/drive/My Drive/Colab Notebooks/ex3/gauss/3_2/low_res/blurred\" --deblurred-imgs-dir=\"/content/drive/My Drive/Colab Notebooks/ex3/gauss/3_2/low_res/deblurred_no_reg_1000\" --latents-dir=\"/content/drive/My Drive/Colab Notebooks/ex3/gauss/3_2/low_res/latents_dir_no_reg_1000\" --kernel-size=3 --sigma=2 --beta=0.0 --reg=\"grad\" --kernel-type=\"gauss\" --total-iterations=1000"
      ],
      "execution_count": null,
      "outputs": []
    },
    {
      "cell_type": "markdown",
      "metadata": {
        "id": "Yr_aZJp-TlcQ",
        "colab_type": "text"
      },
      "source": [
        "1000 iterations + regularization"
      ]
    },
    {
      "cell_type": "code",
      "metadata": {
        "id": "ggb6h8BsRqGn",
        "colab_type": "code",
        "colab": {}
      },
      "source": [
        "!python deblurring.py --input-size 1024 1024 --blurred-imgs-dir=\"/content/drive/My Drive/Colab Notebooks/ex3/gauss/9_8/full_res/blurred\" --deblurred-imgs-dir=\"/content/drive/My Drive/Colab Notebooks/ex3/gauss/9_8/full_res/deblurred_reg_1000\" --latents-dir=\"/content/drive/My Drive/Colab Notebooks/ex3/gauss/9_8/full_res/latents_dir_reg_1000\" --kernel-size=9 --sigma=8 --beta=0.1 --reg=\"grad\" --kernel-type=\"gauss\" --total-iterations=1000"
      ],
      "execution_count": null,
      "outputs": []
    },
    {
      "cell_type": "code",
      "metadata": {
        "id": "qqpsLm91UKNV",
        "colab_type": "code",
        "colab": {}
      },
      "source": [
        "!python deblurring.py --input-size 128 128 --blurred-imgs-dir=\"/content/drive/My Drive/Colab Notebooks/ex3/gauss/3_2/low_res/blurred\" --deblurred-imgs-dir=\"/content/drive/My Drive/Colab Notebooks/ex3/gauss/3_2/low_res/deblurred_reg_1000\" --latents-dir=\"/content/drive/My Drive/Colab Notebooks/ex3/gauss/3_2/low_res/latents_dir_reg_1000\" --kernel-size=3 --sigma=2 --beta=0.1 --reg=\"grad\" --kernel-type=\"gauss\" --total-iterations=1000"
      ],
      "execution_count": null,
      "outputs": []
    },
    {
      "cell_type": "markdown",
      "metadata": {
        "id": "-QiXY04saUkO",
        "colab_type": "text"
      },
      "source": [
        "### *X Motion Kernal*"
      ]
    },
    {
      "cell_type": "markdown",
      "metadata": {
        "id": "uGaH5EoIa2vX",
        "colab_type": "text"
      },
      "source": [
        "####**Blurring**\n"
      ]
    },
    {
      "cell_type": "markdown",
      "metadata": {
        "colab_type": "text",
        "id": "6tM5-kFta9vA"
      },
      "source": [
        "Full resolution"
      ]
    },
    {
      "cell_type": "code",
      "metadata": {
        "colab_type": "code",
        "id": "ZLIgQHLHbFN4",
        "colab": {}
      },
      "source": [
        "!python preprocessing/blur_preprocessing.py --img-dir=\"dataset/full_resolution_stylegan\" --output-dir=\"/content/drive/My Drive/Colab Notebooks/ex3/motion/25/full_res/blurred\" --kernel-size=25 --kernel-type=\"x_motion\""
      ],
      "execution_count": null,
      "outputs": []
    },
    {
      "cell_type": "markdown",
      "metadata": {
        "colab_type": "text",
        "id": "eSCjspczbZZD"
      },
      "source": [
        "Low resulotion"
      ]
    },
    {
      "cell_type": "code",
      "metadata": {
        "colab_type": "code",
        "id": "G4LEjA_HbbA0",
        "colab": {}
      },
      "source": [
        "!python preprocessing/blur_preprocessing.py --img-dir=\"dataset/lr_stylegan\" --output-dir=\"/content/drive/My Drive/Colab Notebooks/ex3/motion/5/low_res/blurred\" --kernel-size=5 --kernel-type=\"x_motion\""
      ],
      "execution_count": null,
      "outputs": []
    },
    {
      "cell_type": "markdown",
      "metadata": {
        "colab_type": "text",
        "id": "0hsH3BU-byHs"
      },
      "source": [
        "####**Deblurring**"
      ]
    },
    {
      "cell_type": "markdown",
      "metadata": {
        "colab_type": "text",
        "id": "4vCRiouUbyHt"
      },
      "source": [
        "2500 iterations + regularization"
      ]
    },
    {
      "cell_type": "code",
      "metadata": {
        "colab_type": "code",
        "id": "Oe5NfvgkbyHt",
        "colab": {}
      },
      "source": [
        "!python deblurring.py --input-size 1024 1024 --blurred-imgs-dir=\"/content/drive/My Drive/Colab Notebooks/ex3/motion/25/full_res/blurred\" --deblurred-imgs-dir=\"/content/drive/My Drive/Colab Notebooks/ex3/motion/25/full_res/deblurred_reg_2500\" --latents-dir=\"/content/drive/My Drive/Colab Notebooks/ex3/motion/25/full_res/latents_dir_reg_2500\" --kernel-size=25 --beta=0.1 --reg=\"grad\" --kernel-type=\"x_motion\" --total-iterations=2500"
      ],
      "execution_count": null,
      "outputs": []
    },
    {
      "cell_type": "code",
      "metadata": {
        "colab_type": "code",
        "id": "UQvWIltObyHw",
        "colab": {}
      },
      "source": [
        "!python deblurring.py --input-size 128 128 --blurred-imgs-dir=\"/content/drive/My Drive/Colab Notebooks/ex3/motion/5/low_res/blurred\" --deblurred-imgs-dir=\"/content/drive/My Drive/Colab Notebooks/ex3/motion/5/low_res/deblurred_reg_2500\" --latents-dir=\"/content/drive/My Drive/Colab Notebooks/ex3/motion/5/low_res/latents_dir_reg_2500\" --kernel-size=5 --beta=0.1 --reg=\"grad\" --kernel-type=\"x_motion\" --total-iterations=2500"
      ],
      "execution_count": null,
      "outputs": []
    },
    {
      "cell_type": "markdown",
      "metadata": {
        "colab_type": "text",
        "id": "iY49wEvubyHy"
      },
      "source": [
        "1000 iterations + no regularization"
      ]
    },
    {
      "cell_type": "code",
      "metadata": {
        "colab_type": "code",
        "id": "sYR4nTb_byHy",
        "colab": {}
      },
      "source": [
        "!python deblurring.py --input-size 1024 1024 --blurred-imgs-dir=\"/content/drive/My Drive/Colab Notebooks/ex3/motion/25/full_res/blurred\" --deblurred-imgs-dir=\"/content/drive/My Drive/Colab Notebooks/ex3/motion/25/full_res/deblurred_no_reg_1000\" --latents-dir=\"/content/drive/My Drive/Colab Notebooks/ex3/motion/25/full_res/latents_dir_no_reg_1000\" --kernel-size=25 --beta=0.0 --reg=\"grad\" --kernel-type=\"x_motion\" --total-iterations=1000"
      ],
      "execution_count": null,
      "outputs": []
    },
    {
      "cell_type": "code",
      "metadata": {
        "colab_type": "code",
        "id": "mLmiotOFbyHz",
        "colab": {}
      },
      "source": [
        "!python deblurring.py --input-size 128 128 --blurred-imgs-dir=\"/content/drive/My Drive/Colab Notebooks/ex3/motion/5/low_res/blurred\" --deblurred-imgs-dir=\"/content/drive/My Drive/Colab Notebooks/ex3/motion/5/low_res/deblurred_no_reg_1000\" --latents-dir=\"/content/drive/My Drive/Colab Notebooks/ex3/motion/5/low_res/latents_dir_no_reg_1000\" --kernel-size=5 --beta=0.0 --reg=\"grad\" --kernel-type=\"x_motion\" --total-iterations=1000"
      ],
      "execution_count": null,
      "outputs": []
    },
    {
      "cell_type": "markdown",
      "metadata": {
        "colab_type": "text",
        "id": "C4aSIMPObyH1"
      },
      "source": [
        "1000 iterations + regularization"
      ]
    },
    {
      "cell_type": "code",
      "metadata": {
        "colab_type": "code",
        "id": "H_CA5Ve9byH1",
        "colab": {}
      },
      "source": [
        "!python deblurring.py --input-size 1024 1024 --blurred-imgs-dir=\"/content/drive/My Drive/Colab Notebooks/ex3/motion/25/full_res/blurred\" --deblurred-imgs-dir=\"/content/drive/My Drive/Colab Notebooks/ex3/motion/25/full_res/deblurred_reg_1000\" --latents-dir=\"/content/drive/My Drive/Colab Notebooks/ex3/motion/25/full_res/latents_dir_reg_1000\" --kernel-size=25 --beta=0.1 --reg=\"grad\" --kernel-type=\"x_motion\" --total-iterations=1000"
      ],
      "execution_count": null,
      "outputs": []
    },
    {
      "cell_type": "code",
      "metadata": {
        "colab_type": "code",
        "id": "nQ-z1QL6byH3",
        "colab": {}
      },
      "source": [
        "!python deblurring.py --input-size 128 128 --blurred-imgs-dir=\"/content/drive/My Drive/Colab Notebooks/ex3/motion/5/low_res/blurred\" --deblurred-imgs-dir=\"/content/drive/My Drive/Colab Notebooks/ex3/motion/5/low_res/deblurred_reg_1000\" --latents-dir=\"/content/drive/My Drive/Colab Notebooks/ex3/motion/5/low_res/latents_dir_reg_1000\" --kernel-size=5 --beta=0.1 --reg=\"grad\" --kernel-type=\"x_motion\" --total-iterations=1000"
      ],
      "execution_count": null,
      "outputs": []
    },
    {
      "cell_type": "markdown",
      "metadata": {
        "colab_type": "text",
        "id": "tp7fMPoKd20X"
      },
      "source": [
        "### *Disk Kernal*"
      ]
    },
    {
      "cell_type": "markdown",
      "metadata": {
        "colab_type": "text",
        "id": "5-6wEv-fd20c"
      },
      "source": [
        "####**Blurring**\n"
      ]
    },
    {
      "cell_type": "markdown",
      "metadata": {
        "colab_type": "text",
        "id": "3wIJ6IvRd20c"
      },
      "source": [
        "Full resolution"
      ]
    },
    {
      "cell_type": "code",
      "metadata": {
        "colab_type": "code",
        "id": "UUiRqfCcd20d",
        "colab": {}
      },
      "source": [
        "!python preprocessing/blur_preprocessing.py --img-dir=\"dataset/full_resolution_stylegan\" --output-dir=\"/content/drive/My Drive/Colab Notebooks/ex3/disk/11/full_res/blurred\" --kernel-size=11 --kernel-type=\"disk\""
      ],
      "execution_count": null,
      "outputs": []
    },
    {
      "cell_type": "markdown",
      "metadata": {
        "colab_type": "text",
        "id": "ImxWpHTFd20i"
      },
      "source": [
        "####**Deblurring**"
      ]
    },
    {
      "cell_type": "markdown",
      "metadata": {
        "colab_type": "text",
        "id": "MoT_qh1Fd20i"
      },
      "source": [
        "2500 iterations + regularization"
      ]
    },
    {
      "cell_type": "code",
      "metadata": {
        "colab_type": "code",
        "id": "shNaGQGAd20j",
        "colab": {}
      },
      "source": [
        "!python deblurring.py --input-size 1024 1024 --blurred-imgs-dir=\"/content/drive/My Drive/Colab Notebooks/ex3/disk/11/full_res/blurred\" --deblurred-imgs-dir=\"/content/drive/My Drive/Colab Notebooks/ex3/disk/11/full_res/deblurred_reg_2500\" --latents-dir=\"/content/drive/My Drive/Colab Notebooks/ex3/disk/11/full_res/latents_dir_reg_2500\" --kernel-size=11 --beta=0.1 --reg=\"grad\" --kernel-type=\"disk\" --total-iterations=2500"
      ],
      "execution_count": null,
      "outputs": []
    },
    {
      "cell_type": "markdown",
      "metadata": {
        "colab_type": "text",
        "id": "wavZrPuieeCM"
      },
      "source": [
        "### *Median Kernal*"
      ]
    },
    {
      "cell_type": "markdown",
      "metadata": {
        "colab_type": "text",
        "id": "jTkRIGlUeeCQ"
      },
      "source": [
        "####**Blurring**\n"
      ]
    },
    {
      "cell_type": "markdown",
      "metadata": {
        "colab_type": "text",
        "id": "Tnby8Hm3eeCQ"
      },
      "source": [
        "Full resolution"
      ]
    },
    {
      "cell_type": "code",
      "metadata": {
        "colab_type": "code",
        "id": "lR2DUmYAeeCR",
        "colab": {}
      },
      "source": [
        "!python preprocessing/blur_preprocessing.py --img-dir=\"dataset/full_resolution_stylegan\" --output-dir=\"/content/drive/My Drive/Colab Notebooks/ex3/median/9/full_res/blurred\" --kernel-size=9 --kernel-type=\"median\""
      ],
      "execution_count": null,
      "outputs": []
    },
    {
      "cell_type": "markdown",
      "metadata": {
        "colab_type": "text",
        "id": "A9OTy4FneeCU"
      },
      "source": [
        "####**Deblurring**"
      ]
    },
    {
      "cell_type": "markdown",
      "metadata": {
        "colab_type": "text",
        "id": "Z4Ufrm6heeCU"
      },
      "source": [
        "2500 iterations + regularization"
      ]
    },
    {
      "cell_type": "code",
      "metadata": {
        "colab_type": "code",
        "id": "LRVq5d6WeeCV",
        "colab": {}
      },
      "source": [
        "!python deblurring.py --input-size 1024 1024 --blurred-imgs-dir=\"/content/drive/My Drive/Colab Notebooks/ex3/median/9/full_res/blurred\" --deblurred-imgs-dir=\"/content/drive/My Drive/Colab Notebooks/ex3/median/9/full_res/deblurred_reg_2500\" --latents-dir=\"/content/drive/My Drive/Colab Notebooks/ex3/median/9/full_res/latents_dir_reg_2500\" --kernel-size=9 --reg=\"grad\" --kernel-type=\"median\" --total-iterations=2500"
      ],
      "execution_count": null,
      "outputs": []
    },
    {
      "cell_type": "markdown",
      "metadata": {
        "colab_type": "text",
        "id": "WOJiF7yBfAZ7"
      },
      "source": [
        "### *Bilateral Kernal*"
      ]
    },
    {
      "cell_type": "markdown",
      "metadata": {
        "colab_type": "text",
        "id": "a4bOxo5ifAaA"
      },
      "source": [
        "####**Blurring**\n"
      ]
    },
    {
      "cell_type": "markdown",
      "metadata": {
        "colab_type": "text",
        "id": "yefUKFZ6fAaA"
      },
      "source": [
        "Full resolution"
      ]
    },
    {
      "cell_type": "code",
      "metadata": {
        "colab_type": "code",
        "id": "pRv2As2hfAaB",
        "colab": {}
      },
      "source": [
        "!python preprocessing/blur_preprocessing.py --img-dir=\"dataset/full_resolution_stylegan\" --output-dir=\"/content/drive/My Drive/Colab Notebooks/ex3/bi/9/full_res/blurred\" --kernel-size=9 --sigma=75 --kernel-type=\"bi\""
      ],
      "execution_count": null,
      "outputs": []
    },
    {
      "cell_type": "markdown",
      "metadata": {
        "colab_type": "text",
        "id": "0LtCFokUfAaE"
      },
      "source": [
        "####**Deblurring**"
      ]
    },
    {
      "cell_type": "markdown",
      "metadata": {
        "colab_type": "text",
        "id": "YkONHVF7fAaE"
      },
      "source": [
        "2500 iterations + regularization"
      ]
    },
    {
      "cell_type": "code",
      "metadata": {
        "colab_type": "code",
        "id": "GNQzZboWfAaF",
        "colab": {}
      },
      "source": [
        "!python deblurring.py --input-size 1024 1024 --blurred-imgs-dir=\"/content/drive/My Drive/Colab Notebooks/ex3/bi/9/full_res/blurred\" --deblurred-imgs-dir=\"/content/drive/My Drive/Colab Notebooks/ex3/bi/9/full_res/deblurred_reg_2500\" --latents-dir=\"/content/drive/My Drive/Colab Notebooks/ex3/bi/9/full_res/latents_dir_reg_2500\" --kernel-size=9 --sigma=75 --reg=\"grad\" --kernel-type=\"bi\" --total-iterations=2500"
      ],
      "execution_count": null,
      "outputs": []
    },
    {
      "cell_type": "markdown",
      "metadata": {
        "id": "bTHfZzrrf7mK",
        "colab_type": "text"
      },
      "source": [
        "## **Results**"
      ]
    },
    {
      "cell_type": "code",
      "metadata": {
        "id": "ws7AxCVVUyqB",
        "colab_type": "code",
        "colab": {}
      },
      "source": [
        "from PIL import Image\n",
        "import os\n",
        "import numpy as np\n",
        "import tensorflow as tf\n",
        "from preprocessing import blur_utils\n",
        "DIR0 = \"dataset/deblurred01\"\n",
        "DIR01 = \"dataset/x_motion_deblurred01\"\n",
        "\n",
        "\n",
        "# DIR = \"dataset/full_res/gauss_deblurred_9_8_no_reg\"\n",
        "DIR0 = \"/content/drive/My Drive/Colab Notebooks/ex3/full_res/gauss_deblurred_9_8_no_reg\"\n",
        "\n",
        "ORIG = \"/content/drive/My Drive/Colab Notebooks/ex3/full_res/gauss_blurred_9_8\"\n",
        "images_names = os.listdir(DIR)\n",
        "for name in images_names:\n",
        "    img = Image.open(os.path.join(DIR0, name))\n",
        "    display(img)\n",
        "    img = Image.open(os.path.join(DIR, name))\n",
        "    display(img)\n",
        "    orig = Image.open(os.path.join(ORIG, name))\n",
        "\n",
        "    display(orig)"
      ],
      "execution_count": null,
      "outputs": []
    }
  ]
}