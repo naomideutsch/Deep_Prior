{
  "nbformat": 4,
  "nbformat_minor": 0,
  "metadata": {
    "colab": {
      "name": "Untitled8.ipynb",
      "provenance": [],
      "include_colab_link": true
    },
    "kernelspec": {
      "name": "python3",
      "display_name": "Python 3"
    },
    "accelerator": "GPU"
  },
  "cells": [
    {
      "cell_type": "markdown",
      "metadata": {
        "id": "view-in-github",
        "colab_type": "text"
      },
      "source": [
        "<a href=\"https://colab.research.google.com/github/naomideutsch/Deep_Prior/blob/master/deep_prior.ipynb\" target=\"_parent\"><img src=\"https://colab.research.google.com/assets/colab-badge.svg\" alt=\"Open In Colab\"/></a>"
      ]
    },
    {
      "cell_type": "code",
      "metadata": {
        "id": "Pq8adogsks2K",
        "colab_type": "code",
        "colab": {
          "base_uri": "https://localhost:8080/",
          "height": 80
        },
        "outputId": "c58c25f4-f1b9-46bb-e020-c56d874ddc96"
      },
      "source": [
        "pip install tensorflow-gpu==1.15"
      ],
      "execution_count": null,
      "outputs": [
        {
          "output_type": "stream",
          "text": [
            "Collecting tensorflow-gpu==1.15\n",
            "\u001b[?25l  Downloading https://files.pythonhosted.org/packages/a5/ad/933140e74973fb917a194ab814785e7c23680ca5dee6d663a509fe9579b6/tensorflow_gpu-1.15.0-cp36-cp36m-manylinux2010_x86_64.whl (411.5MB)\n",
            "\u001b[K     |████████▍                       | 107.5MB 1.4MB/s eta 0:03:31"
          ],
          "name": "stdout"
        }
      ]
    },
    {
      "cell_type": "code",
      "metadata": {
        "id": "W6DtxP4sRAb8",
        "colab_type": "code",
        "colab": {
          "base_uri": "https://localhost:8080/",
          "height": 136
        },
        "outputId": "5a967497-1e14-4c82-bf35-8abeb1535030"
      },
      "source": [
        "!git clone https://github.com/naomideutsch/Deep_Prior"
      ],
      "execution_count": null,
      "outputs": [
        {
          "output_type": "stream",
          "text": [
            "Cloning into 'Deep_Prior'...\n",
            "remote: Enumerating objects: 468, done.\u001b[K\n",
            "remote: Counting objects: 100% (468/468), done.\u001b[K\n",
            "remote: Compressing objects: 100% (409/409), done.\u001b[K\n",
            "remote: Total 468 (delta 101), reused 407 (delta 52), pack-reused 0\u001b[K\n",
            "Receiving objects: 100% (468/468), 30.35 MiB | 22.12 MiB/s, done.\n",
            "Resolving deltas: 100% (101/101), done.\n"
          ],
          "name": "stdout"
        }
      ]
    },
    {
      "cell_type": "code",
      "metadata": {
        "id": "VdllOJFsmnyr",
        "colab_type": "code",
        "colab": {
          "base_uri": "https://localhost:8080/",
          "height": 34
        },
        "outputId": "88d73052-f51f-4631-c4e3-60e4bbabacf7"
      },
      "source": [
        "cd Deep_Prior"
      ],
      "execution_count": null,
      "outputs": [
        {
          "output_type": "stream",
          "text": [
            "/content/Deep_Prior\n"
          ],
          "name": "stdout"
        }
      ]
    },
    {
      "cell_type": "markdown",
      "metadata": {
        "id": "UhIDzbC4-ZD9",
        "colab_type": "text"
      },
      "source": [
        "Super-Resolution"
      ]
    },
    {
      "cell_type": "code",
      "metadata": {
        "id": "fuQF2WVhnILR",
        "colab_type": "code",
        "colab": {}
      },
      "source": [
        "\n",
        "!python super_resolution.py --lr-imgs-dir=\"dataset/lr_stylegan\" --hr-imgs-dir=\"dataset/hr_stylegan\" --latents-dir=\"dataset/latents_dir\" --hr-img-size 256 256"
      ],
      "execution_count": null,
      "outputs": []
    },
    {
      "cell_type": "code",
      "metadata": {
        "id": "3_YrhB3YMJ8r",
        "colab_type": "code",
        "colab": {}
      },
      "source": [
        "from PIL import Image\n",
        "import os\n",
        "import numpy as np\n",
        "import tensorflow as tf\n",
        "from preprocessing import blur_utils\n",
        "DIR = \"dataset/hr_stylegan\"\n",
        "ORIG = \"dataset/lr_stylegan\"\n",
        "\n",
        "images_names = os.listdir(DIR)\n",
        "for name in images_names:\n",
        "    img = Image.open(os.path.join(DIR, name))\n",
        "    display(img)\n",
        "    orig = Image.open(os.path.join(ORIG, name))\n",
        "    display(orig)"
      ],
      "execution_count": null,
      "outputs": []
    },
    {
      "cell_type": "markdown",
      "metadata": {
        "id": "cbGXO_en-ovR",
        "colab_type": "text"
      },
      "source": [
        "## [**StyleGan examples**]"
      ]
    },
    {
      "cell_type": "markdown",
      "metadata": {
        "id": "vefMAK7xMQct",
        "colab_type": "text"
      },
      "source": [
        "Preprocessing blurred images"
      ]
    },
    {
      "cell_type": "markdown",
      "metadata": {
        "id": "l8mrOn_wPUnf",
        "colab_type": "text"
      },
      "source": [
        "### *Gussian Kernal*"
      ]
    },
    {
      "cell_type": "markdown",
      "metadata": {
        "id": "UicVpfh-QNf4",
        "colab_type": "text"
      },
      "source": [
        "####**Blurring**\n"
      ]
    },
    {
      "cell_type": "markdown",
      "metadata": {
        "id": "CX1RbiWCSx_2",
        "colab_type": "text"
      },
      "source": [
        "Full resolution"
      ]
    },
    {
      "cell_type": "code",
      "metadata": {
        "id": "dyKSL59-rKVm",
        "colab_type": "code",
        "colab": {}
      },
      "source": [
        "!python preprocessing/blur_preprocessing.py --img-dir=\"dataset/full_resolution_stylegan\" --output-dir=\"/content/drive/My Drive/Colab Notebooks/ex3/gauss/9_8/full_res/blurred\" --kernel-size=9 --sigma=8 --kernel-type=\"gauss\""
      ],
      "execution_count": null,
      "outputs": []
    },
    {
      "cell_type": "markdown",
      "metadata": {
        "id": "jajuqO8IS0HF",
        "colab_type": "text"
      },
      "source": [
        "Low resulotion"
      ]
    },
    {
      "cell_type": "code",
      "metadata": {
        "id": "7A9IyCNhS7KB",
        "colab_type": "code",
        "colab": {}
      },
      "source": [
        "!python preprocessing/blur_preprocessing.py --img-dir=\"dataset/lr_stylegan\" --output-dir=\"/content/drive/My Drive/Colab Notebooks/ex3/gauss/3_2/low_res/blurred\" --kernel-size=3 --sigma=2 --kernel-type=\"gauss\""
      ],
      "execution_count": null,
      "outputs": []
    },
    {
      "cell_type": "markdown",
      "metadata": {
        "id": "qSk0dh0bab-Z",
        "colab_type": "text"
      },
      "source": [
        "####**Deblurring**"
      ]
    },
    {
      "cell_type": "markdown",
      "metadata": {
        "id": "7amA01xKRCoL",
        "colab_type": "text"
      },
      "source": [
        "2500 iterations + regularization"
      ]
    },
    {
      "cell_type": "code",
      "metadata": {
        "id": "jvvcjNvAQan3",
        "colab_type": "code",
        "colab": {}
      },
      "source": [
        "!python deblurring.py --input-size 1024 1024 --blurred-imgs-dir=\"/content/drive/My Drive/Colab Notebooks/ex3/gauss/9_8/full_res/blurred\" --deblurred-imgs-dir=\"/content/drive/My Drive/Colab Notebooks/ex3/gauss/9_8/full_res/deblurred_reg_2500\" --latents-dir=\"/content/drive/My Drive/Colab Notebooks/ex3/gauss/9_8/full_res/latents_dir_reg_2500\" --kernel-size=9 --sigma=8 --beta=0.1 --reg=\"grad\" --kernel-type=\"gauss\" --total-iterations=2500"
      ],
      "execution_count": null,
      "outputs": []
    },
    {
      "cell_type": "code",
      "metadata": {
        "id": "Qx1kkSHLVXv5",
        "colab_type": "code",
        "colab": {}
      },
      "source": [
        "!python deblurring.py --input-size 128 128 --blurred-imgs-dir=\"/content/drive/My Drive/Colab Notebooks/ex3/gauss/3_2/low_res/blurred\" --deblurred-imgs-dir=\"/content/drive/My Drive/Colab Notebooks/ex3/gauss/3_2/low_res/deblurred_reg_2500\" --latents-dir=\"/content/drive/My Drive/Colab Notebooks/ex3/gauss/3_2/low_res/latents_dir_reg_2500\" --kernel-size=3 --sigma=2 --beta=0.1 --reg=\"grad\" --kernel-type=\"gauss\" --total-iterations=2500"
      ],
      "execution_count": null,
      "outputs": []
    },
    {
      "cell_type": "markdown",
      "metadata": {
        "id": "cPmBu9oKRjBE",
        "colab_type": "text"
      },
      "source": [
        "1000 iterations + no regularization"
      ]
    },
    {
      "cell_type": "code",
      "metadata": {
        "id": "bEFZVIoZRM4U",
        "colab_type": "code",
        "colab": {}
      },
      "source": [
        "!python deblurring.py --input-size 1024 1024 --blurred-imgs-dir=\"/content/drive/My Drive/Colab Notebooks/ex3/gauss/9_8/full_res/blurred\" --deblurred-imgs-dir=\"/content/drive/My Drive/Colab Notebooks/ex3/gauss/9_8/full_res/deblurred_no_reg_1000\" --latents-dir=\"/content/drive/My Drive/Colab Notebooks/ex3/gauss/9_8/full_res/latents_dir_no_reg_1000\" --kernel-size=9 --sigma=8 --beta=0.0 --reg=\"grad\" --kernel-type=\"gauss\" --total-iterations=1000"
      ],
      "execution_count": null,
      "outputs": []
    },
    {
      "cell_type": "code",
      "metadata": {
        "id": "2aymAWtZTokQ",
        "colab_type": "code",
        "colab": {}
      },
      "source": [
        "!python deblurring.py --input-size 128 128 --blurred-imgs-dir=\"/content/drive/My Drive/Colab Notebooks/ex3/gauss/3_2/low_res/blurred\" --deblurred-imgs-dir=\"/content/drive/My Drive/Colab Notebooks/ex3/gauss/3_2/low_res/deblurred_no_reg_1000\" --latents-dir=\"/content/drive/My Drive/Colab Notebooks/ex3/gauss/3_2/low_res/latents_dir_no_reg_1000\" --kernel-size=3 --sigma=2 --beta=0.0 --reg=\"grad\" --kernel-type=\"gauss\" --total-iterations=1000"
      ],
      "execution_count": null,
      "outputs": []
    },
    {
      "cell_type": "markdown",
      "metadata": {
        "id": "Yr_aZJp-TlcQ",
        "colab_type": "text"
      },
      "source": [
        "1000 iterations + regularization"
      ]
    },
    {
      "cell_type": "code",
      "metadata": {
        "id": "ggb6h8BsRqGn",
        "colab_type": "code",
        "colab": {}
      },
      "source": [
        "!python deblurring.py --input-size 1024 1024 --blurred-imgs-dir=\"/content/drive/My Drive/Colab Notebooks/ex3/gauss/9_8/full_res/blurred\" --deblurred-imgs-dir=\"/content/drive/My Drive/Colab Notebooks/ex3/gauss/9_8/full_res/deblurred_reg_1000\" --latents-dir=\"/content/drive/My Drive/Colab Notebooks/ex3/gauss/9_8/full_res/latents_dir_reg_1000\" --kernel-size=9 --sigma=8 --beta=0.1 --reg=\"grad\" --kernel-type=\"gauss\" --total-iterations=1000"
      ],
      "execution_count": null,
      "outputs": []
    },
    {
      "cell_type": "code",
      "metadata": {
        "id": "qqpsLm91UKNV",
        "colab_type": "code",
        "colab": {}
      },
      "source": [
        "!python deblurring.py --input-size 128 128 --blurred-imgs-dir=\"/content/drive/My Drive/Colab Notebooks/ex3/gauss/3_2/low_res/blurred\" --deblurred-imgs-dir=\"/content/drive/My Drive/Colab Notebooks/ex3/gauss/3_2/low_res/deblurred_reg_1000\" --latents-dir=\"/content/drive/My Drive/Colab Notebooks/ex3/gauss/3_2/low_res/latents_dir_reg_1000\" --kernel-size=3 --sigma=2 --beta=0.1 --reg=\"grad\" --kernel-type=\"gauss\" --total-iterations=1000"
      ],
      "execution_count": null,
      "outputs": []
    },
    {
      "cell_type": "markdown",
      "metadata": {
        "id": "-QiXY04saUkO",
        "colab_type": "text"
      },
      "source": [
        "### *X Motion Kernal*"
      ]
    },
    {
      "cell_type": "markdown",
      "metadata": {
        "id": "uGaH5EoIa2vX",
        "colab_type": "text"
      },
      "source": [
        "####**Blurring**\n"
      ]
    },
    {
      "cell_type": "markdown",
      "metadata": {
        "colab_type": "text",
        "id": "6tM5-kFta9vA"
      },
      "source": [
        "Full resolution"
      ]
    },
    {
      "cell_type": "code",
      "metadata": {
        "colab_type": "code",
        "id": "ZLIgQHLHbFN4",
        "colab": {}
      },
      "source": [
        "!python preprocessing/blur_preprocessing.py --img-dir=\"dataset/full_resolution_stylegan\" --output-dir=\"/content/drive/My Drive/Colab Notebooks/ex3/motion/25/full_res/blurred\" --kernel-size=25 --kernel-type=\"x_motion\""
      ],
      "execution_count": null,
      "outputs": []
    },
    {
      "cell_type": "markdown",
      "metadata": {
        "colab_type": "text",
        "id": "eSCjspczbZZD"
      },
      "source": [
        "Low resulotion"
      ]
    },
    {
      "cell_type": "code",
      "metadata": {
        "colab_type": "code",
        "id": "G4LEjA_HbbA0",
        "colab": {}
      },
      "source": [
        "!python preprocessing/blur_preprocessing.py --img-dir=\"dataset/lr_stylegan\" --output-dir=\"/content/drive/My Drive/Colab Notebooks/ex3/motion/5/low_res/blurred\" --kernel-size=5 --kernel-type=\"x_motion\""
      ],
      "execution_count": null,
      "outputs": []
    },
    {
      "cell_type": "markdown",
      "metadata": {
        "colab_type": "text",
        "id": "0hsH3BU-byHs"
      },
      "source": [
        "####**Deblurring**"
      ]
    },
    {
      "cell_type": "markdown",
      "metadata": {
        "colab_type": "text",
        "id": "4vCRiouUbyHt"
      },
      "source": [
        "2500 iterations + regularization"
      ]
    },
    {
      "cell_type": "code",
      "metadata": {
        "colab_type": "code",
        "id": "Oe5NfvgkbyHt",
        "colab": {}
      },
      "source": [
        "!python deblurring.py --input-size 1024 1024 --blurred-imgs-dir=\"/content/drive/My Drive/Colab Notebooks/ex3/motion/25/full_res/blurred\" --deblurred-imgs-dir=\"/content/drive/My Drive/Colab Notebooks/ex3/motion/25/full_res/deblurred_reg_2500\" --latents-dir=\"/content/drive/My Drive/Colab Notebooks/ex3/motion/25/full_res/latents_dir_reg_2500\" --kernel-size=25 --beta=0.1 --reg=\"grad\" --kernel-type=\"x_motion\" --total-iterations=2500"
      ],
      "execution_count": null,
      "outputs": []
    },
    {
      "cell_type": "code",
      "metadata": {
        "colab_type": "code",
        "id": "UQvWIltObyHw",
        "colab": {}
      },
      "source": [
        "!python deblurring.py --input-size 128 128 --blurred-imgs-dir=\"/content/drive/My Drive/Colab Notebooks/ex3/motion/5/low_res/blurred\" --deblurred-imgs-dir=\"/content/drive/My Drive/Colab Notebooks/ex3/motion/5/low_res/deblurred_reg_2500\" --latents-dir=\"/content/drive/My Drive/Colab Notebooks/ex3/motion/5/low_res/latents_dir_reg_2500\" --kernel-size=5 --beta=0.1 --reg=\"grad\" --kernel-type=\"x_motion\" --total-iterations=2500"
      ],
      "execution_count": null,
      "outputs": []
    },
    {
      "cell_type": "markdown",
      "metadata": {
        "colab_type": "text",
        "id": "iY49wEvubyHy"
      },
      "source": [
        "1000 iterations + no regularization"
      ]
    },
    {
      "cell_type": "code",
      "metadata": {
        "colab_type": "code",
        "id": "sYR4nTb_byHy",
        "colab": {}
      },
      "source": [
        "!python deblurring.py --input-size 1024 1024 --blurred-imgs-dir=\"/content/drive/My Drive/Colab Notebooks/ex3/motion/25/full_res/blurred\" --deblurred-imgs-dir=\"/content/drive/My Drive/Colab Notebooks/ex3/motion/25/full_res/deblurred_no_reg_1000\" --latents-dir=\"/content/drive/My Drive/Colab Notebooks/ex3/motion/25/full_res/latents_dir_no_reg_1000\" --kernel-size=25 --beta=0.0 --reg=\"grad\" --kernel-type=\"x_motion\" --total-iterations=1000"
      ],
      "execution_count": null,
      "outputs": []
    },
    {
      "cell_type": "code",
      "metadata": {
        "colab_type": "code",
        "id": "mLmiotOFbyHz",
        "colab": {}
      },
      "source": [
        "!python deblurring.py --input-size 128 128 --blurred-imgs-dir=\"/content/drive/My Drive/Colab Notebooks/ex3/motion/5/low_res/blurred\" --deblurred-imgs-dir=\"/content/drive/My Drive/Colab Notebooks/ex3/motion/5/low_res/deblurred_no_reg_1000\" --latents-dir=\"/content/drive/My Drive/Colab Notebooks/ex3/motion/5/low_res/latents_dir_no_reg_1000\" --kernel-size=5 --beta=0.0 --reg=\"grad\" --kernel-type=\"x_motion\" --total-iterations=1000"
      ],
      "execution_count": null,
      "outputs": []
    },
    {
      "cell_type": "markdown",
      "metadata": {
        "colab_type": "text",
        "id": "C4aSIMPObyH1"
      },
      "source": [
        "1000 iterations + regularization"
      ]
    },
    {
      "cell_type": "code",
      "metadata": {
        "colab_type": "code",
        "id": "H_CA5Ve9byH1",
        "colab": {}
      },
      "source": [
        "!python deblurring.py --input-size 1024 1024 --blurred-imgs-dir=\"/content/drive/My Drive/Colab Notebooks/ex3/motion/25/full_res/blurred\" --deblurred-imgs-dir=\"/content/drive/My Drive/Colab Notebooks/ex3/motion/25/full_res/deblurred_reg_1000\" --latents-dir=\"/content/drive/My Drive/Colab Notebooks/ex3/motion/25/full_res/latents_dir_reg_1000\" --kernel-size=25 --beta=0.1 --reg=\"grad\" --kernel-type=\"x_motion\" --total-iterations=1000"
      ],
      "execution_count": null,
      "outputs": []
    },
    {
      "cell_type": "code",
      "metadata": {
        "colab_type": "code",
        "id": "nQ-z1QL6byH3",
        "colab": {}
      },
      "source": [
        "!python deblurring.py --input-size 128 128 --blurred-imgs-dir=\"/content/drive/My Drive/Colab Notebooks/ex3/motion/5/low_res/blurred\" --deblurred-imgs-dir=\"/content/drive/My Drive/Colab Notebooks/ex3/motion/5/low_res/deblurred_reg_1000\" --latents-dir=\"/content/drive/My Drive/Colab Notebooks/ex3/motion/5/low_res/latents_dir_reg_1000\" --kernel-size=5 --beta=0.1 --reg=\"grad\" --kernel-type=\"x_motion\" --total-iterations=1000"
      ],
      "execution_count": null,
      "outputs": []
    },
    {
      "cell_type": "markdown",
      "metadata": {
        "colab_type": "text",
        "id": "tp7fMPoKd20X"
      },
      "source": [
        "### *Disk Kernal*"
      ]
    },
    {
      "cell_type": "markdown",
      "metadata": {
        "colab_type": "text",
        "id": "5-6wEv-fd20c"
      },
      "source": [
        "####**Blurring**\n"
      ]
    },
    {
      "cell_type": "markdown",
      "metadata": {
        "colab_type": "text",
        "id": "3wIJ6IvRd20c"
      },
      "source": [
        "Full resolution"
      ]
    },
    {
      "cell_type": "code",
      "metadata": {
        "colab_type": "code",
        "id": "UUiRqfCcd20d",
        "colab": {}
      },
      "source": [
        "!python preprocessing/blur_preprocessing.py --img-dir=\"dataset/full_resolution_stylegan\" --output-dir=\"/content/drive/My Drive/Colab Notebooks/ex3/disk/11/full_res/blurred\" --kernel-size=11 --kernel-type=\"disk\""
      ],
      "execution_count": null,
      "outputs": []
    },
    {
      "cell_type": "markdown",
      "metadata": {
        "colab_type": "text",
        "id": "ImxWpHTFd20i"
      },
      "source": [
        "####**Deblurring**"
      ]
    },
    {
      "cell_type": "markdown",
      "metadata": {
        "colab_type": "text",
        "id": "MoT_qh1Fd20i"
      },
      "source": [
        "2500 iterations + regularization"
      ]
    },
    {
      "cell_type": "code",
      "metadata": {
        "colab_type": "code",
        "id": "shNaGQGAd20j",
        "colab": {}
      },
      "source": [
        "!python deblurring.py --input-size 1024 1024 --blurred-imgs-dir=\"/content/drive/My Drive/Colab Notebooks/ex3/disk/11/full_res/blurred\" --deblurred-imgs-dir=\"/content/drive/My Drive/Colab Notebooks/ex3/disk/11/full_res/deblurred_reg_2500\" --latents-dir=\"/content/drive/My Drive/Colab Notebooks/ex3/disk/11/full_res/latents_dir_reg_2500\" --kernel-size=11 --beta=0.1 --reg=\"grad\" --kernel-type=\"disk\" --total-iterations=2500"
      ],
      "execution_count": null,
      "outputs": []
    },
    {
      "cell_type": "markdown",
      "metadata": {
        "colab_type": "text",
        "id": "wavZrPuieeCM"
      },
      "source": [
        "### *Median Kernal*"
      ]
    },
    {
      "cell_type": "markdown",
      "metadata": {
        "colab_type": "text",
        "id": "jTkRIGlUeeCQ"
      },
      "source": [
        "####**Blurring**\n"
      ]
    },
    {
      "cell_type": "markdown",
      "metadata": {
        "colab_type": "text",
        "id": "Tnby8Hm3eeCQ"
      },
      "source": [
        "Full resolution"
      ]
    },
    {
      "cell_type": "code",
      "metadata": {
        "colab_type": "code",
        "id": "lR2DUmYAeeCR",
        "colab": {}
      },
      "source": [
        "!python preprocessing/blur_preprocessing.py --img-dir=\"dataset/full_resolution_stylegan\" --output-dir=\"/content/drive/My Drive/Colab Notebooks/ex3/median/9/full_res/blurred\" --kernel-size=9 --kernel-type=\"median\""
      ],
      "execution_count": null,
      "outputs": []
    },
    {
      "cell_type": "markdown",
      "metadata": {
        "colab_type": "text",
        "id": "A9OTy4FneeCU"
      },
      "source": [
        "####**Deblurring**"
      ]
    },
    {
      "cell_type": "markdown",
      "metadata": {
        "colab_type": "text",
        "id": "Z4Ufrm6heeCU"
      },
      "source": [
        "2500 iterations + regularization"
      ]
    },
    {
      "cell_type": "code",
      "metadata": {
        "colab_type": "code",
        "id": "LRVq5d6WeeCV",
        "colab": {}
      },
      "source": [
        "!python deblurring.py --input-size 1024 1024 --blurred-imgs-dir=\"/content/drive/My Drive/Colab Notebooks/ex3/median/9/full_res/blurred\" --deblurred-imgs-dir=\"/content/drive/My Drive/Colab Notebooks/ex3/median/9/full_res/deblurred_reg_2500\" --latents-dir=\"/content/drive/My Drive/Colab Notebooks/ex3/median/9/full_res/latents_dir_reg_2500\" --kernel-size=9 --reg=\"grad\" --kernel-type=\"median\" --total-iterations=2500"
      ],
      "execution_count": null,
      "outputs": []
    },
    {
      "cell_type": "markdown",
      "metadata": {
        "colab_type": "text",
        "id": "WOJiF7yBfAZ7"
      },
      "source": [
        "### *Bilateral Kernal*"
      ]
    },
    {
      "cell_type": "markdown",
      "metadata": {
        "colab_type": "text",
        "id": "a4bOxo5ifAaA"
      },
      "source": [
        "####**Blurring**\n"
      ]
    },
    {
      "cell_type": "markdown",
      "metadata": {
        "colab_type": "text",
        "id": "yefUKFZ6fAaA"
      },
      "source": [
        "Full resolution"
      ]
    },
    {
      "cell_type": "code",
      "metadata": {
        "colab_type": "code",
        "id": "pRv2As2hfAaB",
        "colab": {}
      },
      "source": [
        "!python preprocessing/blur_preprocessing.py --img-dir=\"dataset/full_resolution_stylegan\" --output-dir=\"/content/drive/My Drive/Colab Notebooks/ex3/bi/9/full_res/blurred\" --kernel-size=9 --sigma=75 --kernel-type=\"bi\""
      ],
      "execution_count": null,
      "outputs": []
    },
    {
      "cell_type": "markdown",
      "metadata": {
        "colab_type": "text",
        "id": "0LtCFokUfAaE"
      },
      "source": [
        "####**Deblurring**"
      ]
    },
    {
      "cell_type": "markdown",
      "metadata": {
        "colab_type": "text",
        "id": "YkONHVF7fAaE"
      },
      "source": [
        "2500 iterations + regularization"
      ]
    },
    {
      "cell_type": "code",
      "metadata": {
        "colab_type": "code",
        "id": "GNQzZboWfAaF",
        "colab": {}
      },
      "source": [
        "!python deblurring.py --input-size 1024 1024 --blurred-imgs-dir=\"/content/drive/My Drive/Colab Notebooks/ex3/bi/9/full_res/blurred\" --deblurred-imgs-dir=\"/content/drive/My Drive/Colab Notebooks/ex3/bi/9/full_res/deblurred_reg_2500\" --latents-dir=\"/content/drive/My Drive/Colab Notebooks/ex3/bi/9/full_res/latents_dir_reg_2500\" --kernel-size=9 --sigma=75 --reg=\"grad\" --kernel-type=\"bi\" --total-iterations=2500"
      ],
      "execution_count": null,
      "outputs": []
    },
    {
      "cell_type": "markdown",
      "metadata": {
        "id": "bTHfZzrrf7mK",
        "colab_type": "text"
      },
      "source": [
        "## **Results**"
      ]
    },
    {
      "cell_type": "code",
      "metadata": {
        "id": "ws7AxCVVUyqB",
        "colab_type": "code",
        "colab": {}
      },
      "source": [
        "from PIL import Image\n",
        "import os\n",
        "import numpy as np\n",
        "import tensorflow as tf\n",
        "from preprocessing import blur_utils\n",
        "DIR0 = \"dataset/deblurred01\"\n",
        "DIR01 = \"dataset/x_motion_deblurred01\"\n",
        "\n",
        "\n",
        "# DIR = \"dataset/full_res/gauss_deblurred_9_8_no_reg\"\n",
        "DIR0 = \"/content/drive/My Drive/Colab Notebooks/ex3/full_res/gauss_deblurred_9_8_no_reg\"\n",
        "\n",
        "ORIG = \"/content/drive/My Drive/Colab Notebooks/ex3/full_res/gauss_blurred_9_8\"\n",
        "images_names = os.listdir(DIR)\n",
        "for name in images_names:\n",
        "    img = Image.open(os.path.join(DIR0, name))\n",
        "    display(img)\n",
        "    img = Image.open(os.path.join(DIR, name))\n",
        "    display(img)\n",
        "    orig = Image.open(os.path.join(ORIG, name))\n",
        "\n",
        "    display(orig)"
      ],
      "execution_count": null,
      "outputs": []
    }
  ]
}